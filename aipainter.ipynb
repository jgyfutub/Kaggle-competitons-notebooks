{
 "cells": [
  {
   "cell_type": "code",
   "execution_count": 1,
   "id": "eb27a0ba",
   "metadata": {
    "_cell_guid": "b1076dfc-b9ad-4769-8c92-a6c4dae69d19",
    "_uuid": "8f2839f25d086af736a60e9eeb907d3b93b6e0e5",
    "execution": {
     "iopub.execute_input": "2023-06-26T17:17:19.764023Z",
     "iopub.status.busy": "2023-06-26T17:17:19.763658Z",
     "iopub.status.idle": "2023-06-26T17:17:27.628076Z",
     "shell.execute_reply": "2023-06-26T17:17:27.626957Z"
    },
    "papermill": {
     "duration": 7.871782,
     "end_time": "2023-06-26T17:17:27.630399",
     "exception": false,
     "start_time": "2023-06-26T17:17:19.758617",
     "status": "completed"
    },
    "tags": []
   },
   "outputs": [
    {
     "name": "stderr",
     "output_type": "stream",
     "text": [
      "/opt/conda/lib/python3.10/site-packages/tensorflow_io/python/ops/__init__.py:98: UserWarning: unable to load libtensorflow_io_plugins.so: unable to open file: libtensorflow_io_plugins.so, from paths: ['/opt/conda/lib/python3.10/site-packages/tensorflow_io/python/ops/libtensorflow_io_plugins.so']\n",
      "caused by: ['/opt/conda/lib/python3.10/site-packages/tensorflow_io/python/ops/libtensorflow_io_plugins.so: undefined symbol: _ZN3tsl6StatusC1EN10tensorflow5error4CodeESt17basic_string_viewIcSt11char_traitsIcEENS_14SourceLocationE']\n",
      "  warnings.warn(f\"unable to load libtensorflow_io_plugins.so: {e}\")\n",
      "/opt/conda/lib/python3.10/site-packages/tensorflow_io/python/ops/__init__.py:104: UserWarning: file system plugins are not loaded: unable to open file: libtensorflow_io.so, from paths: ['/opt/conda/lib/python3.10/site-packages/tensorflow_io/python/ops/libtensorflow_io.so']\n",
      "caused by: ['/opt/conda/lib/python3.10/site-packages/tensorflow_io/python/ops/libtensorflow_io.so: undefined symbol: _ZTVN10tensorflow13GcsFileSystemE']\n",
      "  warnings.warn(f\"file system plugins are not loaded: {e}\")\n"
     ]
    }
   ],
   "source": [
    "import os\n",
    "import tensorflow as tf\n",
    "from tensorflow.keras import layers \n",
    "from tensorflow.keras.preprocessing.image import load_img\n",
    "from tensorflow.keras.utils import img_to_array\n",
    "monet_images=[]\n",
    "photos=[]\n",
    "for i in os.listdir('/kaggle/input/gan-getting-started/monet_jpg'):\n",
    "    monet_images.append(os.path.join('/kaggle/input/gan-getting-started/monet_jpg',i))\n",
    "for i in os.listdir('/kaggle/input/gan-getting-started/photo_jpg'):\n",
    "    photos.append(os.path.join('/kaggle/input/gan-getting-started/photo_jpg',i))\n",
    "def imgtoarr(path):\n",
    "    image = tf.image.decode_jpeg(path, channels=3)\n",
    "    image = (tf.cast(image, tf.float32) / 127.5) - 1\n",
    "    image = tf.reshape(image, [256,256, 3])\n",
    "    return image\n",
    "def load_dataset(filenames, labeled=True, ordered=False):\n",
    "    dataset = tf.data.TFRecordDataset(filenames)\n",
    "    dataset = dataset.map(read_tfrecord, num_parallel_calls=AUTOTUNE)\n",
    "    return dataset\n",
    "monet_arr=map(imgtoarr,monet_images)\n",
    "photos_arr=map(imgtoarr,photos)\n",
    "def generator_model():\n",
    "    model =tf.keras.Sequential()\n",
    "#     model.add(layers.Input(shape=(100,)))\n",
    "    model.add(layers.Dense(7*7*256,input_shape=(100,)))\n",
    "#     model.add(layers.Conv2DTranspose(128,5,padding='same',strides=(1,1)))\n",
    "    model.add(layers.BatchNormalization())\n",
    "    model.add(layers.LeakyReLU())\n",
    "    model.add(layers.Reshape(target_shape=(7,7,256)))\n",
    "    \n",
    "    model.add(layers.UpSampling2D())\n",
    "    model.add(layers.Conv2D(128,5,padding='same',strides=(2,2)))\n",
    "    model.add(layers.BatchNormalization())\n",
    "    model.add(layers.LeakyReLU())\n",
    "\n",
    "    model.add(layers.UpSampling2D())\n",
    "    model.add(layers.Conv2D(128,5,padding='same',strides=(3,3)))\n",
    "    model.add(layers.BatchNormalization())\n",
    "    model.add(layers.LeakyReLU())\n",
    "    \n",
    "    model.add(layers.Conv2D(128,4,padding='same',strides=(3,3)))\n",
    "    model.add(layers.BatchNormalization())\n",
    "    model.add(layers.LeakyReLU())\n",
    "    \n",
    "    model.add(layers.Conv2D(128,4,padding='same',strides=(2,2)))\n",
    "    model.add(layers.BatchNormalization())\n",
    "    model.add(layers.LeakyReLU())\n",
    "    \n",
    "    model.add(layers.Conv2D(128,4,padding='same',strides=(1,1)))\n",
    "    model.add(layers.BatchNormalization())\n",
    "    model.add(layers.LeakyReLU())\n",
    "    \n",
    "    model.add(layers.Conv2D(1,4,padding='same',activation='sigmoid'))\n",
    "    return model"
   ]
  },
  {
   "cell_type": "code",
   "execution_count": 2,
   "id": "167d73b6",
   "metadata": {
    "execution": {
     "iopub.execute_input": "2023-06-26T17:17:27.639440Z",
     "iopub.status.busy": "2023-06-26T17:17:27.637641Z",
     "iopub.status.idle": "2023-06-26T17:17:35.195459Z",
     "shell.execute_reply": "2023-06-26T17:17:35.194526Z"
    },
    "papermill": {
     "duration": 7.564202,
     "end_time": "2023-06-26T17:17:35.197863",
     "exception": false,
     "start_time": "2023-06-26T17:17:27.633661",
     "status": "completed"
    },
    "tags": []
   },
   "outputs": [],
   "source": [
    "generator=generator_model()\n",
    "generated_image=generator(tf.convert_to_tensor(tf.random.normal([1,100])),training=False)"
   ]
  },
  {
   "cell_type": "code",
   "execution_count": 3,
   "id": "40177d8f",
   "metadata": {
    "execution": {
     "iopub.execute_input": "2023-06-26T17:17:35.204968Z",
     "iopub.status.busy": "2023-06-26T17:17:35.204684Z",
     "iopub.status.idle": "2023-06-26T17:17:35.476082Z",
     "shell.execute_reply": "2023-06-26T17:17:35.475168Z"
    },
    "papermill": {
     "duration": 0.277209,
     "end_time": "2023-06-26T17:17:35.478133",
     "exception": false,
     "start_time": "2023-06-26T17:17:35.200924",
     "status": "completed"
    },
    "tags": []
   },
   "outputs": [
    {
     "data": {
      "text/plain": [
       "<matplotlib.image.AxesImage at 0x792c881477c0>"
      ]
     },
     "execution_count": 3,
     "metadata": {},
     "output_type": "execute_result"
    },
    {
     "data": {
      "image/png": "[encoded data removed]",
      "text/plain": [
       "<Figure size 640x480 with 1 Axes>"
      ]
     },
     "metadata": {},
     "output_type": "display_data"
    }
   ],
   "source": [
    "import matplotlib.pyplot as plt\n",
    "plt.imshow(generated_image[0,:,:,0],cmap='gray')"
   ]
  },
  {
   "cell_type": "code",
   "execution_count": 4,
   "id": "c97eb364",
   "metadata": {
    "execution": {
     "iopub.execute_input": "2023-06-26T17:17:35.486780Z",
     "iopub.status.busy": "2023-06-26T17:17:35.485688Z",
     "iopub.status.idle": "2023-06-26T17:17:35.494502Z",
     "shell.execute_reply": "2023-06-26T17:17:35.493639Z"
    },
    "papermill": {
     "duration": 0.015097,
     "end_time": "2023-06-26T17:17:35.496586",
     "exception": false,
     "start_time": "2023-06-26T17:17:35.481489",
     "status": "completed"
    },
    "tags": []
   },
   "outputs": [],
   "source": [
    "from tensorflow.keras.models import Model\n",
    "def discrimatior_model():\n",
    "    model =tf.keras.Sequential()\n",
    "    model.add(layers.Conv2D(64,(5,5),strides=(2,2),padding='same',input_shape=[7,7,1]))\n",
    "    model.add(layers.LeakyReLU())\n",
    "    model.add(layers.Dropout(0.2))\n",
    "    \n",
    "    model.add(layers.Conv2D(128,(5,5),strides=(2,2),padding='same'))\n",
    "    model.add(layers.LeakyReLU())\n",
    "    model.add(layers.Dropout(0.2))\n",
    "    \n",
    "    model.add(layers.Flatten())\n",
    "    model.add(layers.Dense(1))\n",
    "    return model"
   ]
  },
  {
   "cell_type": "code",
   "execution_count": 5,
   "id": "ca1e58a9",
   "metadata": {
    "execution": {
     "iopub.execute_input": "2023-06-26T17:17:35.504091Z",
     "iopub.status.busy": "2023-06-26T17:17:35.503825Z",
     "iopub.status.idle": "2023-06-26T17:17:35.564521Z",
     "shell.execute_reply": "2023-06-26T17:17:35.563634Z"
    },
    "papermill": {
     "duration": 0.067009,
     "end_time": "2023-06-26T17:17:35.566957",
     "exception": false,
     "start_time": "2023-06-26T17:17:35.499948",
     "status": "completed"
    },
    "tags": []
   },
   "outputs": [],
   "source": [
    "discrimator=discrimatior_model()\n",
    "# print(discrimator(generated_image))"
   ]
  },
  {
   "cell_type": "code",
   "execution_count": 6,
   "id": "84db71ce",
   "metadata": {
    "execution": {
     "iopub.execute_input": "2023-06-26T17:17:35.574563Z",
     "iopub.status.busy": "2023-06-26T17:17:35.574256Z",
     "iopub.status.idle": "2023-06-26T17:17:35.585103Z",
     "shell.execute_reply": "2023-06-26T17:17:35.584307Z"
    },
    "papermill": {
     "duration": 0.01673,
     "end_time": "2023-06-26T17:17:35.587045",
     "exception": false,
     "start_time": "2023-06-26T17:17:35.570315",
     "status": "completed"
    },
    "tags": []
   },
   "outputs": [],
   "source": [
    "cross_entropy=tf.keras.losses.BinaryCrossentropy(from_logits=True)\n",
    "def discriminator_loss(real,fake):\n",
    "    real_loss=cross_entropy(tf.ones_like(real),real)\n",
    "    fake_loss=cross_entropy(tf.zeros_like(fake),fake)\n",
    "    loss=real_loss+fake_loss\n",
    "    return loss\n",
    "def generator_loss(fake):\n",
    "    return cross_entropy(tf.zeros_like(fake),fake)\n",
    "generator_optimizer=tf.keras.optimizers.Adam(1e-4)\n",
    "discriminator_optimizer=tf.keras.optimizers.Adam(1e-4)"
   ]
  },
  {
   "cell_type": "code",
   "execution_count": 7,
   "id": "150ba359",
   "metadata": {
    "execution": {
     "iopub.execute_input": "2023-06-26T17:17:35.594522Z",
     "iopub.status.busy": "2023-06-26T17:17:35.594235Z",
     "iopub.status.idle": "2023-06-26T17:17:35.601205Z",
     "shell.execute_reply": "2023-06-26T17:17:35.600332Z"
    },
    "papermill": {
     "duration": 0.012843,
     "end_time": "2023-06-26T17:17:35.603178",
     "exception": false,
     "start_time": "2023-06-26T17:17:35.590335",
     "status": "completed"
    },
    "tags": []
   },
   "outputs": [],
   "source": [
    "@tf.function\n",
    "def train_image(image):\n",
    "    noise=tf.random.normal([1,100])\n",
    "    with tf.GradientTape() as gen_tape,tf.GradientTape() as disc_tape:\n",
    "        generated_image=generator(noise,training=True)\n",
    "        \n",
    "        real_output=discriminator(image,training=True)\n",
    "        fake_output=discriminator(generated_image,training=True)\n",
    "        \n",
    "        gen_loss=generator_loss(fake_output)\n",
    "        disc_loss=discriminator_loss(real_output,fake_output)\n",
    "    gradients_generator=gen_tape.gradient(gen_loss,generator.trainable_variables)\n",
    "    gradients_discriminator=disc_tape.gradient(gen_loss,discriminator.trainable_variables)\n",
    "    generator_optimizer.apply_gradients(zip(gradients_generator,generator.trainable_variables))\n",
    "    discriminator_optimizer.apply_gradients(zip(gradients_discriminator,discriminator.trainable_variables))"
   ]
  }
 ],
 "metadata": {
  "kernelspec": {
   "display_name": "Python 3",
   "language": "python",
   "name": "python3"
  },
  "language_info": {
   "codemirror_mode": {
    "name": "ipython",
    "version": 3
   },
   "file_extension": ".py",
   "mimetype": "text/x-python",
   "name": "python",
   "nbconvert_exporter": "python",
   "pygments_lexer": "ipython3",
   "version": "3.10.10"
  },
  "papermill": {
   "default_parameters": {},
   "duration": 29.707308,
   "end_time": "2023-06-26T17:17:39.000475",
   "environment_variables": {},
   "exception": null,
   "input_path": "__notebook__.ipynb",
   "output_path": "__notebook__.ipynb",
   "parameters": {},
   "start_time": "2023-06-26T17:17:09.293167",
   "version": "2.4.0"
  }
 },
 "nbformat": 4,
 "nbformat_minor": 5
}

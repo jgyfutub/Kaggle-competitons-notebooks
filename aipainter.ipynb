{
 "cells": [
  {
   "cell_type": "code",
   "execution_count": 1,
   "id": "5299cb8a",
   "metadata": {
    "_cell_guid": "b1076dfc-b9ad-4769-8c92-a6c4dae69d19",
    "_uuid": "8f2839f25d086af736a60e9eeb907d3b93b6e0e5",
    "execution": {
     "iopub.execute_input": "2023-06-25T12:54:27.598201Z",
     "iopub.status.busy": "2023-06-25T12:54:27.597238Z",
     "iopub.status.idle": "2023-06-25T12:54:36.133368Z",
     "shell.execute_reply": "2023-06-25T12:54:36.132200Z"
    },
    "papermill": {
     "duration": 8.542991,
     "end_time": "2023-06-25T12:54:36.136290",
     "exception": false,
     "start_time": "2023-06-25T12:54:27.593299",
     "status": "completed"
    },
    "tags": []
   },
   "outputs": [
    {
     "name": "stderr",
     "output_type": "stream",
     "text": [
      "/opt/conda/lib/python3.10/site-packages/tensorflow_io/python/ops/__init__.py:98: UserWarning: unable to load libtensorflow_io_plugins.so: unable to open file: libtensorflow_io_plugins.so, from paths: ['/opt/conda/lib/python3.10/site-packages/tensorflow_io/python/ops/libtensorflow_io_plugins.so']\n",
      "caused by: ['/opt/conda/lib/python3.10/site-packages/tensorflow_io/python/ops/libtensorflow_io_plugins.so: undefined symbol: _ZN3tsl6StatusC1EN10tensorflow5error4CodeESt17basic_string_viewIcSt11char_traitsIcEENS_14SourceLocationE']\n",
      "  warnings.warn(f\"unable to load libtensorflow_io_plugins.so: {e}\")\n",
      "/opt/conda/lib/python3.10/site-packages/tensorflow_io/python/ops/__init__.py:104: UserWarning: file system plugins are not loaded: unable to open file: libtensorflow_io.so, from paths: ['/opt/conda/lib/python3.10/site-packages/tensorflow_io/python/ops/libtensorflow_io.so']\n",
      "caused by: ['/opt/conda/lib/python3.10/site-packages/tensorflow_io/python/ops/libtensorflow_io.so: undefined symbol: _ZTVN10tensorflow13GcsFileSystemE']\n",
      "  warnings.warn(f\"file system plugins are not loaded: {e}\")\n"
     ]
    }
   ],
   "source": [
    "import os\n",
    "import tensorflow as tf\n",
    "from tensorflow.keras import layers \n",
    "from tensorflow.keras.preprocessing.image import load_img\n",
    "from tensorflow.keras.utils import img_to_array\n",
    "monet_images=[]\n",
    "photos=[]\n",
    "for i in os.listdir('/kaggle/input/gan-getting-started/monet_jpg'):\n",
    "    monet_images.append(os.path.join('/kaggle/input/gan-getting-started/monet_jpg',i))\n",
    "for i in os.listdir('/kaggle/input/gan-getting-started/photo_jpg'):\n",
    "    photos.append(os.path.join('/kaggle/input/gan-getting-started/photo_jpg',i))\n",
    "def imgtoarr(path):\n",
    "    img=load_img(path,target_size=(299,299))\n",
    "    i=img_to_array(img).astype('float32')\n",
    "    i=i/255\n",
    "    i = i.reshape((1, i.shape[0], i.shape[1], i.shape[2]))\n",
    "    return i\n",
    "monet_arr=map(imgtoarr,monet_images)\n",
    "photos_arr=map(imgtoarr,photos)\n",
    "def generator_model():\n",
    "    model =tf.keras.Sequential()\n",
    "    model.add(layers.Dense(7*7*256,input_shape=(100,)))\n",
    "    model.add(layers.BatchNormalization())\n",
    "    model.add(layers.LeakyReLU())\n",
    "    model.add(layers.Reshape((7,7,256)))\n",
    "    \n",
    "    model.add(layers.UpSampling2D())\n",
    "    model.add(layers.Conv2D(128,5,padding='same',strides=(1,1)))\n",
    "    model.add(layers.BatchNormalization())\n",
    "    model.add(layers.LeakyReLU())\n",
    "    \n",
    "    model.add(layers.UpSampling2D())\n",
    "    model.add(layers.Conv2D(128,5,padding='same',strides=(2,2)))\n",
    "    model.add(layers.BatchNormalization())\n",
    "    model.add(layers.LeakyReLU())\n",
    "    \n",
    "    model.add(layers.Conv2D(128,4,padding='same',strides=(2,2)))\n",
    "    model.add(layers.BatchNormalization())\n",
    "    model.add(layers.LeakyReLU())\n",
    "    \n",
    "    model.add(layers.Conv2D(128,4,padding='same',strides=(1,1)))\n",
    "    model.add(layers.BatchNormalization())\n",
    "    model.add(layers.LeakyReLU())\n",
    "    \n",
    "    model.add(layers.Conv2D(1,4,padding='same',activation='sigmoid'))\n",
    "    return model\n",
    "def discriminator():\n",
    "    return "
   ]
  },
  {
   "cell_type": "code",
   "execution_count": 2,
   "id": "a0d274c7",
   "metadata": {
    "execution": {
     "iopub.execute_input": "2023-06-25T12:54:36.144878Z",
     "iopub.status.busy": "2023-06-25T12:54:36.144149Z",
     "iopub.status.idle": "2023-06-25T12:54:44.532955Z",
     "shell.execute_reply": "2023-06-25T12:54:44.532001Z"
    },
    "papermill": {
     "duration": 8.395498,
     "end_time": "2023-06-25T12:54:44.535322",
     "exception": false,
     "start_time": "2023-06-25T12:54:36.139824",
     "status": "completed"
    },
    "tags": []
   },
   "outputs": [],
   "source": [
    "generator=generator_model()\n",
    "generated_image=generator(tf.random.normal([1,100]),training=False)"
   ]
  },
  {
   "cell_type": "code",
   "execution_count": 3,
   "id": "eb24c0da",
   "metadata": {
    "execution": {
     "iopub.execute_input": "2023-06-25T12:54:44.541925Z",
     "iopub.status.busy": "2023-06-25T12:54:44.541137Z",
     "iopub.status.idle": "2023-06-25T12:54:44.835208Z",
     "shell.execute_reply": "2023-06-25T12:54:44.834312Z"
    },
    "papermill": {
     "duration": 0.299311,
     "end_time": "2023-06-25T12:54:44.837187",
     "exception": false,
     "start_time": "2023-06-25T12:54:44.537876",
     "status": "completed"
    },
    "tags": []
   },
   "outputs": [
    {
     "data": {
      "text/plain": [
       "<matplotlib.image.AxesImage at 0x79f96c225900>"
      ]
     },
     "execution_count": 3,
     "metadata": {},
     "output_type": "execute_result"
    },
    {
     "data": {
      "image/png": "[encoded data removed]",
      "text/plain": [
       "<Figure size 640x480 with 1 Axes>"
      ]
     },
     "metadata": {},
     "output_type": "display_data"
    }
   ],
   "source": [
    "import matplotlib.pyplot as plt\n",
    "plt.imshow(generated_image[0,:,:,0],cmap='gray')"
   ]
  },
  {
   "cell_type": "code",
   "execution_count": 4,
   "id": "f68f0532",
   "metadata": {
    "execution": {
     "iopub.execute_input": "2023-06-25T12:54:44.845186Z",
     "iopub.status.busy": "2023-06-25T12:54:44.843534Z",
     "iopub.status.idle": "2023-06-25T12:54:44.852206Z",
     "shell.execute_reply": "2023-06-25T12:54:44.851293Z"
    },
    "papermill": {
     "duration": 0.014359,
     "end_time": "2023-06-25T12:54:44.854247",
     "exception": false,
     "start_time": "2023-06-25T12:54:44.839888",
     "status": "completed"
    },
    "tags": []
   },
   "outputs": [],
   "source": [
    "from tensorflow.keras.models import Model\n",
    "def discrimatior_model():\n",
    "    model =tf.keras.Sequential()\n",
    "    model.add(layers.Conv2D(64,(5,5),strides=(2,2),padding='same',input_shape=[7,7,1]))\n",
    "    model.add(layers.LeakyReLU())\n",
    "    model.add(layers.Dropout(0.2))\n",
    "    \n",
    "    model.add(layers.Conv2D(128,(5,5),strides=(2,2),padding='same'))\n",
    "    model.add(layers.LeakyReLU())\n",
    "    model.add(layers.Dropout(0.2))\n",
    "    \n",
    "    model.add(layers.Flatten())\n",
    "    model.add(layers.Dense(1))\n",
    "    return model"
   ]
  },
  {
   "cell_type": "code",
   "execution_count": 5,
   "id": "45dd156b",
   "metadata": {
    "execution": {
     "iopub.execute_input": "2023-06-25T12:54:44.860360Z",
     "iopub.status.busy": "2023-06-25T12:54:44.860089Z",
     "iopub.status.idle": "2023-06-25T12:54:44.954006Z",
     "shell.execute_reply": "2023-06-25T12:54:44.952864Z"
    },
    "papermill": {
     "duration": 0.099728,
     "end_time": "2023-06-25T12:54:44.956513",
     "exception": false,
     "start_time": "2023-06-25T12:54:44.856785",
     "status": "completed"
    },
    "tags": []
   },
   "outputs": [
    {
     "name": "stdout",
     "output_type": "stream",
     "text": [
      "tf.Tensor([[-0.01357104]], shape=(1, 1), dtype=float32)\n"
     ]
    }
   ],
   "source": [
    "discrimator=discrimatior_model()\n",
    "print(discrimator(generated_image))"
   ]
  }
 ],
 "metadata": {
  "kernelspec": {
   "display_name": "Python 3",
   "language": "python",
   "name": "python3"
  },
  "language_info": {
   "codemirror_mode": {
    "name": "ipython",
    "version": 3
   },
   "file_extension": ".py",
   "mimetype": "text/x-python",
   "name": "python",
   "nbconvert_exporter": "python",
   "pygments_lexer": "ipython3",
   "version": "3.10.10"
  },
  "papermill": {
   "default_parameters": {},
   "duration": 30.7452,
   "end_time": "2023-06-25T12:54:47.730746",
   "environment_variables": {},
   "exception": null,
   "input_path": "__notebook__.ipynb",
   "output_path": "__notebook__.ipynb",
   "parameters": {},
   "start_time": "2023-06-25T12:54:16.985546",
   "version": "2.4.0"
  }
 },
 "nbformat": 4,
 "nbformat_minor": 5
}

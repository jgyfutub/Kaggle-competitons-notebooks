{
 "cells": [
  {
   "cell_type": "code",
   "execution_count": 1,
   "id": "aa16911f",
   "metadata": {
    "_cell_guid": "b1076dfc-b9ad-4769-8c92-a6c4dae69d19",
    "_uuid": "8f2839f25d086af736a60e9eeb907d3b93b6e0e5",
    "execution": {
     "iopub.execute_input": "2023-06-25T18:44:07.607795Z",
     "iopub.status.busy": "2023-06-25T18:44:07.607028Z",
     "iopub.status.idle": "2023-06-25T18:44:15.679994Z",
     "shell.execute_reply": "2023-06-25T18:44:15.678973Z"
    },
    "papermill": {
     "duration": 8.080279,
     "end_time": "2023-06-25T18:44:15.682328",
     "exception": false,
     "start_time": "2023-06-25T18:44:07.602049",
     "status": "completed"
    },
    "tags": []
   },
   "outputs": [
    {
     "name": "stderr",
     "output_type": "stream",
     "text": [
      "/opt/conda/lib/python3.10/site-packages/tensorflow_io/python/ops/__init__.py:98: UserWarning: unable to load libtensorflow_io_plugins.so: unable to open file: libtensorflow_io_plugins.so, from paths: ['/opt/conda/lib/python3.10/site-packages/tensorflow_io/python/ops/libtensorflow_io_plugins.so']\n",
      "caused by: ['/opt/conda/lib/python3.10/site-packages/tensorflow_io/python/ops/libtensorflow_io_plugins.so: undefined symbol: _ZN3tsl6StatusC1EN10tensorflow5error4CodeESt17basic_string_viewIcSt11char_traitsIcEENS_14SourceLocationE']\n",
      "  warnings.warn(f\"unable to load libtensorflow_io_plugins.so: {e}\")\n",
      "/opt/conda/lib/python3.10/site-packages/tensorflow_io/python/ops/__init__.py:104: UserWarning: file system plugins are not loaded: unable to open file: libtensorflow_io.so, from paths: ['/opt/conda/lib/python3.10/site-packages/tensorflow_io/python/ops/libtensorflow_io.so']\n",
      "caused by: ['/opt/conda/lib/python3.10/site-packages/tensorflow_io/python/ops/libtensorflow_io.so: undefined symbol: _ZTVN10tensorflow13GcsFileSystemE']\n",
      "  warnings.warn(f\"file system plugins are not loaded: {e}\")\n"
     ]
    }
   ],
   "source": [
    "import os\n",
    "import tensorflow as tf\n",
    "from tensorflow.keras import layers \n",
    "from tensorflow.keras.preprocessing.image import load_img\n",
    "from tensorflow.keras.utils import img_to_array\n",
    "monet_images=[]\n",
    "photos=[]\n",
    "for i in os.listdir('/kaggle/input/gan-getting-started/monet_jpg'):\n",
    "    monet_images.append(os.path.join('/kaggle/input/gan-getting-started/monet_jpg',i))\n",
    "for i in os.listdir('/kaggle/input/gan-getting-started/photo_jpg'):\n",
    "    photos.append(os.path.join('/kaggle/input/gan-getting-started/photo_jpg',i))\n",
    "def imgtoarr(path):\n",
    "    img=load_img(path,target_size=(64,64))\n",
    "    i=img_to_array(img).astype('float32')\n",
    "    i=i/255\n",
    "    i = i.reshape(i.shape[0],i.shape[1],i.shape[2],1)\n",
    "    return i\n",
    "monet_arr=map(imgtoarr,monet_images)\n",
    "photos_arr=map(imgtoarr,photos)\n",
    "def generator_model():\n",
    "    model =tf.keras.Sequential()\n",
    "    model.add(layers.Dense(7*7*256,input_shape=(100,)))\n",
    "    model.add(layers.BatchNormalization())\n",
    "    model.add(layers.LeakyReLU())\n",
    "    model.add(layers.Reshape(target_shape=(7,7,256)))\n",
    "    \n",
    "    model.add(layers.UpSampling2D())\n",
    "    model.add(layers.Conv2D(128,5,padding='same',strides=(1,1)))\n",
    "    model.add(layers.BatchNormalization())\n",
    "    model.add(layers.LeakyReLU())\n",
    "\n",
    "    model.add(layers.UpSampling2D())\n",
    "    model.add(layers.Conv2D(128,5,padding='same',strides=(2,2)))\n",
    "    model.add(layers.BatchNormalization())\n",
    "    model.add(layers.LeakyReLU())\n",
    "    \n",
    "    model.add(layers.Conv2D(128,4,padding='same',strides=(2,2)))\n",
    "    model.add(layers.BatchNormalization())\n",
    "    model.add(layers.LeakyReLU())\n",
    "    \n",
    "    model.add(layers.Conv2D(128,4,padding='same',strides=(1,1)))\n",
    "    model.add(layers.BatchNormalization())\n",
    "    model.add(layers.LeakyReLU())\n",
    "    \n",
    "    model.add(layers.Conv2D(1,4,padding='same',activation='sigmoid'))\n",
    "    return model\n",
    "def discriminator():\n",
    "    return "
   ]
  },
  {
   "cell_type": "code",
   "execution_count": 2,
   "id": "41f65bf9",
   "metadata": {
    "execution": {
     "iopub.execute_input": "2023-06-25T18:44:15.690850Z",
     "iopub.status.busy": "2023-06-25T18:44:15.689454Z",
     "iopub.status.idle": "2023-06-25T18:44:24.010225Z",
     "shell.execute_reply": "2023-06-25T18:44:24.009219Z"
    },
    "papermill": {
     "duration": 8.327156,
     "end_time": "2023-06-25T18:44:24.012790",
     "exception": false,
     "start_time": "2023-06-25T18:44:15.685634",
     "status": "completed"
    },
    "tags": []
   },
   "outputs": [],
   "source": [
    "generator=generator_model()\n",
    "generated_image=generator(tf.convert_to_tensor(tf.random.normal([1,100])),training=False)"
   ]
  },
  {
   "cell_type": "code",
   "execution_count": 3,
   "id": "e43266bf",
   "metadata": {
    "execution": {
     "iopub.execute_input": "2023-06-25T18:44:24.020258Z",
     "iopub.status.busy": "2023-06-25T18:44:24.019920Z",
     "iopub.status.idle": "2023-06-25T18:44:24.313340Z",
     "shell.execute_reply": "2023-06-25T18:44:24.312408Z"
    },
    "papermill": {
     "duration": 0.299518,
     "end_time": "2023-06-25T18:44:24.315397",
     "exception": false,
     "start_time": "2023-06-25T18:44:24.015879",
     "status": "completed"
    },
    "tags": []
   },
   "outputs": [
    {
     "data": {
      "text/plain": [
       "<matplotlib.image.AxesImage at 0x7b929909ef80>"
      ]
     },
     "execution_count": 3,
     "metadata": {},
     "output_type": "execute_result"
    },
    {
     "data": {
      "image/png": "[encoded data removed]",
      "text/plain": [
       "<Figure size 640x480 with 1 Axes>"
      ]
     },
     "metadata": {},
     "output_type": "display_data"
    }
   ],
   "source": [
    "import matplotlib.pyplot as plt\n",
    "plt.imshow(generated_image[0,:,:,0],cmap='gray')"
   ]
  },
  {
   "cell_type": "code",
   "execution_count": 4,
   "id": "87c34c43",
   "metadata": {
    "execution": {
     "iopub.execute_input": "2023-06-25T18:44:24.324619Z",
     "iopub.status.busy": "2023-06-25T18:44:24.323144Z",
     "iopub.status.idle": "2023-06-25T18:44:24.332216Z",
     "shell.execute_reply": "2023-06-25T18:44:24.331279Z"
    },
    "papermill": {
     "duration": 0.015373,
     "end_time": "2023-06-25T18:44:24.334205",
     "exception": false,
     "start_time": "2023-06-25T18:44:24.318832",
     "status": "completed"
    },
    "tags": []
   },
   "outputs": [],
   "source": [
    "from tensorflow.keras.models import Model\n",
    "def discrimatior_model():\n",
    "    model =tf.keras.Sequential()\n",
    "    model.add(layers.Conv2D(64,(5,5),strides=(2,2),padding='same',input_shape=[7,7,1]))\n",
    "    model.add(layers.LeakyReLU())\n",
    "    model.add(layers.Dropout(0.2))\n",
    "    \n",
    "    model.add(layers.Conv2D(128,(5,5),strides=(2,2),padding='same'))\n",
    "    model.add(layers.LeakyReLU())\n",
    "    model.add(layers.Dropout(0.2))\n",
    "    \n",
    "    model.add(layers.Flatten())\n",
    "    model.add(layers.Dense(1))\n",
    "    return model"
   ]
  },
  {
   "cell_type": "code",
   "execution_count": 5,
   "id": "d08f6997",
   "metadata": {
    "execution": {
     "iopub.execute_input": "2023-06-25T18:44:24.342060Z",
     "iopub.status.busy": "2023-06-25T18:44:24.341350Z",
     "iopub.status.idle": "2023-06-25T18:44:24.462553Z",
     "shell.execute_reply": "2023-06-25T18:44:24.460971Z"
    },
    "papermill": {
     "duration": 0.128952,
     "end_time": "2023-06-25T18:44:24.466285",
     "exception": false,
     "start_time": "2023-06-25T18:44:24.337333",
     "status": "completed"
    },
    "tags": []
   },
   "outputs": [
    {
     "name": "stdout",
     "output_type": "stream",
     "text": [
      "tf.Tensor([[0.02323494]], shape=(1, 1), dtype=float32)\n"
     ]
    }
   ],
   "source": [
    "discrimator=discrimatior_model()\n",
    "print(discrimator(generated_image))"
   ]
  },
  {
   "cell_type": "code",
   "execution_count": 6,
   "id": "f2bc0520",
   "metadata": {
    "execution": {
     "iopub.execute_input": "2023-06-25T18:44:24.477000Z",
     "iopub.status.busy": "2023-06-25T18:44:24.476510Z",
     "iopub.status.idle": "2023-06-25T18:44:24.495919Z",
     "shell.execute_reply": "2023-06-25T18:44:24.491645Z"
    },
    "papermill": {
     "duration": 0.042266,
     "end_time": "2023-06-25T18:44:24.513211",
     "exception": false,
     "start_time": "2023-06-25T18:44:24.470945",
     "status": "completed"
    },
    "tags": []
   },
   "outputs": [],
   "source": [
    "cross_entropy=tf.keras.losses.BinaryCrossentropy(from_logits=True)\n",
    "def discriminator_loss(real,fake):\n",
    "    real_loss=cross_entropy(tf.ones_like(real),real)\n",
    "    fake_loss=cross_entropy(tf.zeros_like(fake),fake)\n",
    "    loss=real_loss+fake_loss\n",
    "    return loss\n",
    "def generator_loss(fake):\n",
    "    return cross_entropy(tf.zeros_like(fake),fake)\n",
    "generator_optimizer=tf.keras.optimizers.Adam(1e-4)\n",
    "discriminator_optimizer=tf.keras.optimizers.Adam(1e-4)"
   ]
  },
  {
   "cell_type": "code",
   "execution_count": 7,
   "id": "a2337939",
   "metadata": {
    "execution": {
     "iopub.execute_input": "2023-06-25T18:44:24.531219Z",
     "iopub.status.busy": "2023-06-25T18:44:24.530806Z",
     "iopub.status.idle": "2023-06-25T18:44:24.542519Z",
     "shell.execute_reply": "2023-06-25T18:44:24.541665Z"
    },
    "papermill": {
     "duration": 0.02007,
     "end_time": "2023-06-25T18:44:24.545076",
     "exception": false,
     "start_time": "2023-06-25T18:44:24.525006",
     "status": "completed"
    },
    "tags": []
   },
   "outputs": [],
   "source": [
    "@tf.function\n",
    "def train_image(image):\n",
    "    noise=tf.random.normal([1,100])\n",
    "    with tf.GradientTape() as gen_tape,tf.GradientTape() as disc_tape:\n",
    "        generated_image=generator(noise,training=True)\n",
    "        \n",
    "        real_output=discriminator(image,training=True)\n",
    "        fake_output=discriminator(generated_image,training=True)\n",
    "        \n",
    "        gen_loss=generator_loss(fake_output)\n",
    "        disc_loss=discriminator_loss(real_output,fake_output)\n",
    "    gradients_generator=gen_tape.gradient(gen_loss,generator.trainable_variables)\n",
    "    gradients_discriminator=disc_tape.gradient(gen_loss,discriminator.trainable_variables)\n",
    "    generator_optimizer.apply_gradients(zip(gradients_generator,generator.trainable_variables))\n",
    "    discriminator_optimizer.apply_gradients(zip(gradients_discriminator,discriminator.trainable_variables))"
   ]
  }
 ],
 "metadata": {
  "kernelspec": {
   "display_name": "Python 3",
   "language": "python",
   "name": "python3"
  },
  "language_info": {
   "codemirror_mode": {
    "name": "ipython",
    "version": 3
   },
   "file_extension": ".py",
   "mimetype": "text/x-python",
   "name": "python",
   "nbconvert_exporter": "python",
   "pygments_lexer": "ipython3",
   "version": "3.10.10"
  },
  "papermill": {
   "default_parameters": {},
   "duration": 30.747511,
   "end_time": "2023-06-25T18:44:27.578317",
   "environment_variables": {},
   "exception": null,
   "input_path": "__notebook__.ipynb",
   "output_path": "__notebook__.ipynb",
   "parameters": {},
   "start_time": "2023-06-25T18:43:56.830806",
   "version": "2.4.0"
  }
 },
 "nbformat": 4,
 "nbformat_minor": 5
}

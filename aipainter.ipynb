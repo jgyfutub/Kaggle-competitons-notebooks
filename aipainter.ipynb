{
 "cells": [
  {
   "cell_type": "code",
   "execution_count": 1,
   "id": "8e6d34ce",
   "metadata": {
    "_cell_guid": "b1076dfc-b9ad-4769-8c92-a6c4dae69d19",
    "_uuid": "8f2839f25d086af736a60e9eeb907d3b93b6e0e5",
    "execution": {
     "iopub.execute_input": "2023-06-26T19:54:03.786981Z",
     "iopub.status.busy": "2023-06-26T19:54:03.786108Z",
     "iopub.status.idle": "2023-06-26T19:54:15.667366Z",
     "shell.execute_reply": "2023-06-26T19:54:15.666389Z"
    },
    "papermill": {
     "duration": 11.887989,
     "end_time": "2023-06-26T19:54:15.669681",
     "exception": false,
     "start_time": "2023-06-26T19:54:03.781692",
     "status": "completed"
    },
    "tags": []
   },
   "outputs": [
    {
     "name": "stderr",
     "output_type": "stream",
     "text": [
      "/opt/conda/lib/python3.10/site-packages/tensorflow_io/python/ops/__init__.py:98: UserWarning: unable to load libtensorflow_io_plugins.so: unable to open file: libtensorflow_io_plugins.so, from paths: ['/opt/conda/lib/python3.10/site-packages/tensorflow_io/python/ops/libtensorflow_io_plugins.so']\n",
      "caused by: ['/opt/conda/lib/python3.10/site-packages/tensorflow_io/python/ops/libtensorflow_io_plugins.so: undefined symbol: _ZN3tsl6StatusC1EN10tensorflow5error4CodeESt17basic_string_viewIcSt11char_traitsIcEENS_14SourceLocationE']\n",
      "  warnings.warn(f\"unable to load libtensorflow_io_plugins.so: {e}\")\n",
      "/opt/conda/lib/python3.10/site-packages/tensorflow_io/python/ops/__init__.py:104: UserWarning: file system plugins are not loaded: unable to open file: libtensorflow_io.so, from paths: ['/opt/conda/lib/python3.10/site-packages/tensorflow_io/python/ops/libtensorflow_io.so']\n",
      "caused by: ['/opt/conda/lib/python3.10/site-packages/tensorflow_io/python/ops/libtensorflow_io.so: undefined symbol: _ZTVN10tensorflow13GcsFileSystemE']\n",
      "  warnings.warn(f\"file system plugins are not loaded: {e}\")\n"
     ]
    },
    {
     "name": "stdout",
     "output_type": "stream",
     "text": [
      "<_BatchDataset element_spec=TensorSpec(shape=(None, 256, 256, 3), dtype=tf.float32, name=None)>\n"
     ]
    }
   ],
   "source": [
    "import os\n",
    "import tensorflow as tf\n",
    "from tensorflow.keras import layers \n",
    "from kaggle_datasets import KaggleDatasets\n",
    "GCS_PATH = KaggleDatasets().get_gcs_path()\n",
    "AUTOTUNE = tf.data.experimental.AUTOTUNE\n",
    "MONET_FILENAMES = tf.io.gfile.glob(str(GCS_PATH + '/monet_tfrec/*.tfrec'))\n",
    "PHOTO_FILENAMES = tf.io.gfile.glob(str(GCS_PATH + '/photo_tfrec/*.tfrec'))\n",
    "def load_dataset(filenames, labeled=True, ordered=False):\n",
    "    dataset = tf.data.TFRecordDataset(filenames)\n",
    "    dataset = dataset.map(read_tfrecord, num_parallel_calls=AUTOTUNE)\n",
    "    return dataset\n",
    "def read_tfrecord(example):\n",
    "    tfrecord_format = {\n",
    "        \"image_name\": tf.io.FixedLenFeature([], tf.string),\n",
    "        \"image\": tf.io.FixedLenFeature([], tf.string),\n",
    "        \"target\": tf.io.FixedLenFeature([], tf.string)\n",
    "    }\n",
    "    example = tf.io.parse_single_example(example, tfrecord_format)\n",
    "    image = decode_image(example['image'])\n",
    "    return image\n",
    "def decode_image(image):\n",
    "    image = tf.image.decode_jpeg(image, channels=3)\n",
    "    image = (tf.cast(image, tf.float32) / 127.5) - 1\n",
    "    image = tf.reshape(image, [256,256, 3])\n",
    "    return image\n",
    "monet_ds = load_dataset(MONET_FILENAMES, labeled=True).batch(1)\n",
    "photo_ds = load_dataset(PHOTO_FILENAMES, labeled=True).batch(1)\n",
    "print(monet_ds)"
   ]
  },
  {
   "cell_type": "code",
   "execution_count": 2,
   "id": "30135ef3",
   "metadata": {
    "_cell_guid": "b1076dfc-b9ad-4769-8c92-a6c4dae69d19",
    "_uuid": "8f2839f25d086af736a60e9eeb907d3b93b6e0e5",
    "execution": {
     "iopub.execute_input": "2023-06-26T19:54:15.677742Z",
     "iopub.status.busy": "2023-06-26T19:54:15.677313Z",
     "iopub.status.idle": "2023-06-26T19:54:15.688359Z",
     "shell.execute_reply": "2023-06-26T19:54:15.687370Z"
    },
    "papermill": {
     "duration": 0.017412,
     "end_time": "2023-06-26T19:54:15.690614",
     "exception": false,
     "start_time": "2023-06-26T19:54:15.673202",
     "status": "completed"
    },
    "tags": []
   },
   "outputs": [],
   "source": [
    "def generator_model():\n",
    "    model =tf.keras.Sequential()\n",
    "    model.add(layers.Input(shape=(256,256,3)))\n",
    "    model.add(layers.Conv2DTranspose(128,5,padding='same',strides=(1,1)))\n",
    "    model.add(layers.BatchNormalization())\n",
    "    model.add(layers.LeakyReLU())\n",
    "    \n",
    "    model.add(layers.UpSampling2D())\n",
    "    model.add(layers.Conv2D(128,5,padding='same',strides=(2,2)))\n",
    "    model.add(layers.BatchNormalization())\n",
    "    model.add(layers.LeakyReLU())\n",
    "\n",
    "    model.add(layers.UpSampling2D())\n",
    "    model.add(layers.Conv2D(128,5,padding='same',strides=(3,3)))\n",
    "    model.add(layers.BatchNormalization())\n",
    "    model.add(layers.LeakyReLU())\n",
    "    \n",
    "    model.add(layers.Conv2D(128,4,padding='same',strides=(3,3)))\n",
    "    model.add(layers.BatchNormalization())\n",
    "    model.add(layers.LeakyReLU())\n",
    "    \n",
    "    model.add(layers.Conv2D(128,4,padding='same',strides=(2,2)))\n",
    "    model.add(layers.BatchNormalization())\n",
    "    model.add(layers.LeakyReLU())\n",
    "    \n",
    "    model.add(layers.Conv2D(128,4,padding='same',strides=(1,1)))\n",
    "    model.add(layers.BatchNormalization())\n",
    "    model.add(layers.LeakyReLU())\n",
    "    \n",
    "    model.add(layers.Conv2D(1,4,padding='same',activation='sigmoid'))\n",
    "    return model"
   ]
  },
  {
   "cell_type": "code",
   "execution_count": 3,
   "id": "25b45cd0",
   "metadata": {
    "execution": {
     "iopub.execute_input": "2023-06-26T19:54:15.697916Z",
     "iopub.status.busy": "2023-06-26T19:54:15.697652Z",
     "iopub.status.idle": "2023-06-26T19:54:24.283475Z",
     "shell.execute_reply": "2023-06-26T19:54:24.282496Z"
    },
    "papermill": {
     "duration": 8.592313,
     "end_time": "2023-06-26T19:54:24.285951",
     "exception": false,
     "start_time": "2023-06-26T19:54:15.693638",
     "status": "completed"
    },
    "tags": []
   },
   "outputs": [],
   "source": [
    "generator_monet=generator_model()\n",
    "generator_photo=generator_model()\n",
    "generated_image=generator_monet(next(iter(monet_ds)),training=False)"
   ]
  },
  {
   "cell_type": "code",
   "execution_count": 4,
   "id": "b0ecdcbc",
   "metadata": {
    "execution": {
     "iopub.execute_input": "2023-06-26T19:54:24.294049Z",
     "iopub.status.busy": "2023-06-26T19:54:24.293756Z",
     "iopub.status.idle": "2023-06-26T19:54:24.574048Z",
     "shell.execute_reply": "2023-06-26T19:54:24.573164Z"
    },
    "papermill": {
     "duration": 0.28671,
     "end_time": "2023-06-26T19:54:24.576207",
     "exception": false,
     "start_time": "2023-06-26T19:54:24.289497",
     "status": "completed"
    },
    "tags": []
   },
   "outputs": [
    {
     "data": {
      "text/plain": [
       "<matplotlib.image.AxesImage at 0x7e9b5ee468f0>"
      ]
     },
     "execution_count": 4,
     "metadata": {},
     "output_type": "execute_result"
    },
    {
     "data": {
      "image/png": "[encoded data removed]",
      "text/plain": [
       "<Figure size 640x480 with 1 Axes>"
      ]
     },
     "metadata": {},
     "output_type": "display_data"
    }
   ],
   "source": [
    "import matplotlib.pyplot as plt\n",
    "plt.imshow(generated_image[0,:,:,0],cmap='gray')"
   ]
  },
  {
   "cell_type": "code",
   "execution_count": 5,
   "id": "dc294a95",
   "metadata": {
    "execution": {
     "iopub.execute_input": "2023-06-26T19:54:24.584738Z",
     "iopub.status.busy": "2023-06-26T19:54:24.584456Z",
     "iopub.status.idle": "2023-06-26T19:54:24.593247Z",
     "shell.execute_reply": "2023-06-26T19:54:24.592364Z"
    },
    "papermill": {
     "duration": 0.015383,
     "end_time": "2023-06-26T19:54:24.595424",
     "exception": false,
     "start_time": "2023-06-26T19:54:24.580041",
     "status": "completed"
    },
    "tags": []
   },
   "outputs": [],
   "source": [
    "from tensorflow.keras.models import Model\n",
    "def discrimatior_model():\n",
    "    model =tf.keras.Sequential()\n",
    "    model.add(layers.Input(shape=(256,256,3)))\n",
    "    model.add(layers.Conv2D(64,4,strides=(2,2),padding='same',))\n",
    "    model.add(layers.LeakyReLU())\n",
    "    model.add(layers.Dropout(0.2))\n",
    "    \n",
    "    model.add(layers.Conv2D(128,4,strides=(2,2),padding='same'))\n",
    "    model.add(layers.LeakyReLU())\n",
    "    model.add(layers.Dropout(0.2))\n",
    "    \n",
    "    model.add(layers.Conv2D(256,4,strides=(2,2),padding='same'))\n",
    "    model.add(layers.LeakyReLU())\n",
    "    model.add(layers.Dropout(0.2))\n",
    "    \n",
    "    model.add(layers.Flatten())\n",
    "    model.add(layers.Dense(1))\n",
    "    return model"
   ]
  },
  {
   "cell_type": "code",
   "execution_count": 6,
   "id": "cb11ec1c",
   "metadata": {
    "execution": {
     "iopub.execute_input": "2023-06-26T19:54:24.603665Z",
     "iopub.status.busy": "2023-06-26T19:54:24.603407Z",
     "iopub.status.idle": "2023-06-26T19:54:24.684327Z",
     "shell.execute_reply": "2023-06-26T19:54:24.683424Z"
    },
    "papermill": {
     "duration": 0.087557,
     "end_time": "2023-06-26T19:54:24.686438",
     "exception": false,
     "start_time": "2023-06-26T19:54:24.598881",
     "status": "completed"
    },
    "tags": []
   },
   "outputs": [],
   "source": [
    "discrimator=discrimatior_model()\n",
    "# print(discrimator(generated_image))"
   ]
  },
  {
   "cell_type": "code",
   "execution_count": 7,
   "id": "d04379a0",
   "metadata": {
    "execution": {
     "iopub.execute_input": "2023-06-26T19:54:24.695099Z",
     "iopub.status.busy": "2023-06-26T19:54:24.694394Z",
     "iopub.status.idle": "2023-06-26T19:54:24.708944Z",
     "shell.execute_reply": "2023-06-26T19:54:24.708085Z"
    },
    "papermill": {
     "duration": 0.021158,
     "end_time": "2023-06-26T19:54:24.711209",
     "exception": false,
     "start_time": "2023-06-26T19:54:24.690051",
     "status": "completed"
    },
    "tags": []
   },
   "outputs": [],
   "source": [
    "cross_entropy=tf.keras.losses.BinaryCrossentropy(from_logits=True)\n",
    "def discriminator_loss(real,fake):\n",
    "    real_loss=cross_entropy(tf.ones_like(real),real)\n",
    "    fake_loss=cross_entropy(tf.zeros_like(fake),fake)\n",
    "    loss=real_loss+fake_loss\n",
    "    return loss\n",
    "def generator_loss(fake):\n",
    "    return cross_entropy(tf.zeros_like(fake),fake)\n",
    "monet_generator_optimizer=tf.keras.optimizers.Adam(1e-4)\n",
    "monet_discriminator_optimizer=tf.keras.optimizers.Adam(1e-4)\n",
    "photo_generator_optimizer=tf.keras.optimizers.Adam(1e-4)\n",
    "photo_discriminator_optimizer=tf.keras.optimizers.Adam(1e-4)"
   ]
  },
  {
   "cell_type": "code",
   "execution_count": 8,
   "id": "9dd28420",
   "metadata": {
    "execution": {
     "iopub.execute_input": "2023-06-26T19:54:24.719725Z",
     "iopub.status.busy": "2023-06-26T19:54:24.718919Z",
     "iopub.status.idle": "2023-06-26T19:54:24.726429Z",
     "shell.execute_reply": "2023-06-26T19:54:24.725255Z"
    },
    "papermill": {
     "duration": 0.014195,
     "end_time": "2023-06-26T19:54:24.728823",
     "exception": false,
     "start_time": "2023-06-26T19:54:24.714628",
     "status": "completed"
    },
    "tags": []
   },
   "outputs": [],
   "source": [
    "@tf.function\n",
    "def train_image(image):\n",
    "    noise=tf.random.normal([1,100])\n",
    "    with tf.GradientTape() as gen_tape,tf.GradientTape() as disc_tape:\n",
    "        generated_image=generator(noise,training=True)\n",
    "        \n",
    "        real_output=discriminator(image,training=True)\n",
    "        fake_output=discriminator(generated_image,training=True)\n",
    "        \n",
    "        gen_loss=generator_loss(fake_output)\n",
    "        disc_loss=discriminator_loss(real_output,fake_output)\n",
    "    gradients_generator=gen_tape.gradient(gen_loss,generator.trainable_variables)\n",
    "    gradients_discriminator=disc_tape.gradient(gen_loss,discriminator.trainable_variables)\n",
    "    generator_optimizer.apply_gradients(zip(gradients_generator,generator.trainable_variables))\n",
    "    discriminator_optimizer.apply_gradients(zip(gradients_discriminator,discriminator.trainable_variables))"
   ]
  }
 ],
 "metadata": {
  "kernelspec": {
   "display_name": "Python 3",
   "language": "python",
   "name": "python3"
  },
  "language_info": {
   "codemirror_mode": {
    "name": "ipython",
    "version": 3
   },
   "file_extension": ".py",
   "mimetype": "text/x-python",
   "name": "python",
   "nbconvert_exporter": "python",
   "pygments_lexer": "ipython3",
   "version": "3.10.10"
  },
  "papermill": {
   "default_parameters": {},
   "duration": 35.685644,
   "end_time": "2023-06-26T19:54:28.462157",
   "environment_variables": {},
   "exception": null,
   "input_path": "__notebook__.ipynb",
   "output_path": "__notebook__.ipynb",
   "parameters": {},
   "start_time": "2023-06-26T19:53:52.776513",
   "version": "2.4.0"
  }
 },
 "nbformat": 4,
 "nbformat_minor": 5
}

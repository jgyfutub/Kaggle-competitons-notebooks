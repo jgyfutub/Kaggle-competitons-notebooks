{
 "cells": [
  {
   "cell_type": "code",
   "execution_count": 1,
   "id": "b5bba04c",
   "metadata": {
    "_cell_guid": "b1076dfc-b9ad-4769-8c92-a6c4dae69d19",
    "_uuid": "8f2839f25d086af736a60e9eeb907d3b93b6e0e5",
    "execution": {
     "iopub.execute_input": "2023-06-28T18:12:28.303395Z",
     "iopub.status.busy": "2023-06-28T18:12:28.302675Z",
     "iopub.status.idle": "2023-06-28T18:12:40.495376Z",
     "shell.execute_reply": "2023-06-28T18:12:40.494395Z"
    },
    "papermill": {
     "duration": 12.200503,
     "end_time": "2023-06-28T18:12:40.497480",
     "exception": false,
     "start_time": "2023-06-28T18:12:28.296977",
     "status": "completed"
    },
    "tags": []
   },
   "outputs": [
    {
     "name": "stderr",
     "output_type": "stream",
     "text": [
      "/opt/conda/lib/python3.10/site-packages/tensorflow_io/python/ops/__init__.py:98: UserWarning: unable to load libtensorflow_io_plugins.so: unable to open file: libtensorflow_io_plugins.so, from paths: ['/opt/conda/lib/python3.10/site-packages/tensorflow_io/python/ops/libtensorflow_io_plugins.so']\n",
      "caused by: ['/opt/conda/lib/python3.10/site-packages/tensorflow_io/python/ops/libtensorflow_io_plugins.so: undefined symbol: _ZN3tsl6StatusC1EN10tensorflow5error4CodeESt17basic_string_viewIcSt11char_traitsIcEENS_14SourceLocationE']\n",
      "  warnings.warn(f\"unable to load libtensorflow_io_plugins.so: {e}\")\n",
      "/opt/conda/lib/python3.10/site-packages/tensorflow_io/python/ops/__init__.py:104: UserWarning: file system plugins are not loaded: unable to open file: libtensorflow_io.so, from paths: ['/opt/conda/lib/python3.10/site-packages/tensorflow_io/python/ops/libtensorflow_io.so']\n",
      "caused by: ['/opt/conda/lib/python3.10/site-packages/tensorflow_io/python/ops/libtensorflow_io.so: undefined symbol: _ZTVN10tensorflow13GcsFileSystemE']\n",
      "  warnings.warn(f\"file system plugins are not loaded: {e}\")\n"
     ]
    },
    {
     "name": "stdout",
     "output_type": "stream",
     "text": [
      "<_BatchDataset element_spec=TensorSpec(shape=(None, 256, 256, 3), dtype=tf.float32, name=None)>\n"
     ]
    }
   ],
   "source": [
    "import os\n",
    "import tensorflow as tf\n",
    "from tensorflow.keras import layers \n",
    "from kaggle_datasets import KaggleDatasets\n",
    "GCS_PATH = KaggleDatasets().get_gcs_path()\n",
    "AUTOTUNE = tf.data.experimental.AUTOTUNE\n",
    "MONET_FILENAMES = tf.io.gfile.glob(str(GCS_PATH + '/monet_tfrec/*.tfrec'))\n",
    "PHOTO_FILENAMES = tf.io.gfile.glob(str(GCS_PATH + '/photo_tfrec/*.tfrec'))\n",
    "def load_dataset(filenames, labeled=True, ordered=False):\n",
    "    dataset = tf.data.TFRecordDataset(filenames)\n",
    "    dataset = dataset.map(read_tfrecord, num_parallel_calls=AUTOTUNE)\n",
    "    return dataset\n",
    "def read_tfrecord(example):\n",
    "    tfrecord_format = {\n",
    "        \"image_name\": tf.io.FixedLenFeature([], tf.string),\n",
    "        \"image\": tf.io.FixedLenFeature([], tf.string),\n",
    "        \"target\": tf.io.FixedLenFeature([], tf.string)\n",
    "    }\n",
    "    example = tf.io.parse_single_example(example, tfrecord_format)\n",
    "    image = decode_image(example['image'])\n",
    "    return image\n",
    "def decode_image(image):\n",
    "    image = tf.image.decode_jpeg(image, channels=3)\n",
    "    image = (tf.cast(image, tf.float32) / 127.5) - 1\n",
    "    image = tf.reshape(image, [256,256, 3])\n",
    "    return image\n",
    "monet_ds = load_dataset(MONET_FILENAMES, labeled=True).batch(1)\n",
    "photo_ds = load_dataset(PHOTO_FILENAMES, labeled=True).batch(1)\n",
    "print(monet_ds)"
   ]
  },
  {
   "cell_type": "code",
   "execution_count": 2,
   "id": "c7fb4426",
   "metadata": {
    "_cell_guid": "b1076dfc-b9ad-4769-8c92-a6c4dae69d19",
    "_uuid": "8f2839f25d086af736a60e9eeb907d3b93b6e0e5",
    "execution": {
     "iopub.execute_input": "2023-06-28T18:12:40.506853Z",
     "iopub.status.busy": "2023-06-28T18:12:40.506543Z",
     "iopub.status.idle": "2023-06-28T18:12:40.517832Z",
     "shell.execute_reply": "2023-06-28T18:12:40.516961Z"
    },
    "papermill": {
     "duration": 0.018379,
     "end_time": "2023-06-28T18:12:40.519916",
     "exception": false,
     "start_time": "2023-06-28T18:12:40.501537",
     "status": "completed"
    },
    "tags": []
   },
   "outputs": [],
   "source": [
    "def generator_model():\n",
    "    model =tf.keras.Sequential()\n",
    "    model.add(layers.Input(shape=(256,256,3)))\n",
    "    model.add(layers.Conv2DTranspose(128,5,padding='same',strides=(1,1)))\n",
    "    model.add(layers.BatchNormalization())\n",
    "    model.add(layers.LeakyReLU())\n",
    "    \n",
    "    model.add(layers.UpSampling2D())\n",
    "    model.add(layers.Conv2D(128,5,padding='same',strides=(2,2)))\n",
    "    model.add(layers.BatchNormalization())\n",
    "    model.add(layers.LeakyReLU())\n",
    "\n",
    "    model.add(layers.UpSampling2D())\n",
    "    model.add(layers.Conv2D(128,5,padding='same',strides=(3,3)))\n",
    "    model.add(layers.BatchNormalization())\n",
    "    model.add(layers.LeakyReLU())\n",
    "    \n",
    "    model.add(layers.Conv2D(128,4,padding='same',strides=(3,3)))\n",
    "    model.add(layers.BatchNormalization())\n",
    "    model.add(layers.LeakyReLU())\n",
    "    \n",
    "    model.add(layers.Conv2D(128,4,padding='same',strides=(2,2)))\n",
    "    model.add(layers.BatchNormalization())\n",
    "    model.add(layers.LeakyReLU())\n",
    "    \n",
    "    model.add(layers.Conv2D(128,4,padding='same',strides=(1,1)))\n",
    "    model.add(layers.BatchNormalization())\n",
    "    model.add(layers.LeakyReLU())\n",
    "    \n",
    "    model.add(layers.Conv2D(1,4,padding='same',activation='sigmoid'))\n",
    "    return model"
   ]
  },
  {
   "cell_type": "code",
   "execution_count": 3,
   "id": "8d7d8b9b",
   "metadata": {
    "execution": {
     "iopub.execute_input": "2023-06-28T18:12:40.528654Z",
     "iopub.status.busy": "2023-06-28T18:12:40.528380Z",
     "iopub.status.idle": "2023-06-28T18:12:47.921737Z",
     "shell.execute_reply": "2023-06-28T18:12:47.920765Z"
    },
    "papermill": {
     "duration": 7.400506,
     "end_time": "2023-06-28T18:12:47.924262",
     "exception": false,
     "start_time": "2023-06-28T18:12:40.523756",
     "status": "completed"
    },
    "tags": []
   },
   "outputs": [],
   "source": [
    "generator_monet=generator_model()\n",
    "generator_photo=generator_model()\n",
    "generated_image=generator_monet(next(iter(monet_ds)),training=False)"
   ]
  },
  {
   "cell_type": "code",
   "execution_count": 4,
   "id": "c7e54d79",
   "metadata": {
    "execution": {
     "iopub.execute_input": "2023-06-28T18:12:47.932940Z",
     "iopub.status.busy": "2023-06-28T18:12:47.932601Z",
     "iopub.status.idle": "2023-06-28T18:12:48.216099Z",
     "shell.execute_reply": "2023-06-28T18:12:48.215203Z"
    },
    "papermill": {
     "duration": 0.290231,
     "end_time": "2023-06-28T18:12:48.218238",
     "exception": false,
     "start_time": "2023-06-28T18:12:47.928007",
     "status": "completed"
    },
    "tags": []
   },
   "outputs": [
    {
     "data": {
      "text/plain": [
       "<matplotlib.image.AxesImage at 0x7cc451af6b00>"
      ]
     },
     "execution_count": 4,
     "metadata": {},
     "output_type": "execute_result"
    },
    {
     "data": {
      "image/png": "[encoded data removed]",
      "text/plain": [
       "<Figure size 640x480 with 1 Axes>"
      ]
     },
     "metadata": {},
     "output_type": "display_data"
    }
   ],
   "source": [
    "import matplotlib.pyplot as plt\n",
    "plt.imshow(generated_image[0,:,:,0])"
   ]
  },
  {
   "cell_type": "code",
   "execution_count": 5,
   "id": "aa443602",
   "metadata": {
    "execution": {
     "iopub.execute_input": "2023-06-28T18:12:48.227911Z",
     "iopub.status.busy": "2023-06-28T18:12:48.227616Z",
     "iopub.status.idle": "2023-06-28T18:12:48.236891Z",
     "shell.execute_reply": "2023-06-28T18:12:48.236022Z"
    },
    "papermill": {
     "duration": 0.016663,
     "end_time": "2023-06-28T18:12:48.238942",
     "exception": false,
     "start_time": "2023-06-28T18:12:48.222279",
     "status": "completed"
    },
    "tags": []
   },
   "outputs": [],
   "source": [
    "from tensorflow.keras.models import Model\n",
    "def discrimatior_model():\n",
    "    model =tf.keras.Sequential()\n",
    "    model.add(layers.Input(shape=[29,29,1]))\n",
    "    model.add(layers.Conv2D(128,4,strides=(1,1),padding='same'))\n",
    "    model.add(layers.LeakyReLU())\n",
    "    model.add(layers.Dropout(0.2))\n",
    "    \n",
    "    model.add(layers.Conv2D(128,4,strides=(2,2),padding='same'))\n",
    "    model.add(layers.LeakyReLU())\n",
    "    model.add(layers.Dropout(0.2))\n",
    "    \n",
    "    model.add(layers.Conv2D(256,4,strides=(3,3),padding='same'))\n",
    "    model.add(layers.LeakyReLU())\n",
    "    model.add(layers.Dropout(0.2))\n",
    "\n",
    "    model.add(layers.ZeroPadding2D())\n",
    "    model.add(layers.Flatten())\n",
    "    model.add(layers.Dense(1))\n",
    "    return model"
   ]
  },
  {
   "cell_type": "code",
   "execution_count": 6,
   "id": "381667ba",
   "metadata": {
    "execution": {
     "iopub.execute_input": "2023-06-28T18:12:48.248213Z",
     "iopub.status.busy": "2023-06-28T18:12:48.247923Z",
     "iopub.status.idle": "2023-06-28T18:12:48.403361Z",
     "shell.execute_reply": "2023-06-28T18:12:48.401336Z"
    },
    "papermill": {
     "duration": 0.162666,
     "end_time": "2023-06-28T18:12:48.405689",
     "exception": false,
     "start_time": "2023-06-28T18:12:48.243023",
     "status": "completed"
    },
    "tags": []
   },
   "outputs": [
    {
     "name": "stdout",
     "output_type": "stream",
     "text": [
      "tf.Tensor([[-0.01456513]], shape=(1, 1), dtype=float32)\n"
     ]
    }
   ],
   "source": [
    "discrimator=discrimatior_model()\n",
    "print(discrimator(generated_image))"
   ]
  },
  {
   "cell_type": "code",
   "execution_count": 7,
   "id": "902234b7",
   "metadata": {
    "execution": {
     "iopub.execute_input": "2023-06-28T18:12:48.415418Z",
     "iopub.status.busy": "2023-06-28T18:12:48.414845Z",
     "iopub.status.idle": "2023-06-28T18:12:48.551976Z",
     "shell.execute_reply": "2023-06-28T18:12:48.551053Z"
    },
    "papermill": {
     "duration": 0.144695,
     "end_time": "2023-06-28T18:12:48.554422",
     "exception": false,
     "start_time": "2023-06-28T18:12:48.409727",
     "status": "completed"
    },
    "tags": []
   },
   "outputs": [],
   "source": [
    "monet_discrimator=discrimatior_model()\n",
    "photo_discrimator=discrimatior_model()"
   ]
  },
  {
   "cell_type": "code",
   "execution_count": 8,
   "id": "8db88297",
   "metadata": {
    "execution": {
     "iopub.execute_input": "2023-06-28T18:12:48.563943Z",
     "iopub.status.busy": "2023-06-28T18:12:48.563623Z",
     "iopub.status.idle": "2023-06-28T18:12:48.577661Z",
     "shell.execute_reply": "2023-06-28T18:12:48.576798Z"
    },
    "papermill": {
     "duration": 0.021042,
     "end_time": "2023-06-28T18:12:48.579598",
     "exception": false,
     "start_time": "2023-06-28T18:12:48.558556",
     "status": "completed"
    },
    "tags": []
   },
   "outputs": [],
   "source": [
    "cross_entropy=tf.keras.losses.BinaryCrossentropy(from_logits=True)\n",
    "def discriminator_loss(real,fake):\n",
    "    real_loss=cross_entropy(tf.ones_like(real),real)\n",
    "    fake_loss=cross_entropy(tf.zeros_like(fake),fake)\n",
    "    loss=real_loss+fake_loss\n",
    "    return loss\n",
    "def generator_loss(fake):\n",
    "    return cross_entropy(tf.zeros_like(fake),fake)\n",
    "monet_generator_optimizer=tf.keras.optimizers.Adam(1e-4)\n",
    "monet_discriminator_optimizer=tf.keras.optimizers.Adam(1e-4)\n",
    "photo_generator_optimizer=tf.keras.optimizers.Adam(1e-4)\n",
    "photo_discriminator_optimizer=tf.keras.optimizers.Adam(1e-4)"
   ]
  },
  {
   "cell_type": "code",
   "execution_count": 9,
   "id": "bc7b6404",
   "metadata": {
    "execution": {
     "iopub.execute_input": "2023-06-28T18:12:48.589057Z",
     "iopub.status.busy": "2023-06-28T18:12:48.588785Z",
     "iopub.status.idle": "2023-06-28T18:12:48.599283Z",
     "shell.execute_reply": "2023-06-28T18:12:48.598435Z"
    },
    "papermill": {
     "duration": 0.017712,
     "end_time": "2023-06-28T18:12:48.601446",
     "exception": false,
     "start_time": "2023-06-28T18:12:48.583734",
     "status": "completed"
    },
    "tags": []
   },
   "outputs": [],
   "source": [
    "@tf.function\n",
    "def train_image(batch_data):\n",
    "    real_monet,real_photo=batch_data\n",
    "    with tf.GradientTape() as gen_tape,tf.GradientTape() as disc_tape:\n",
    "        fake_monet=generator_monet(real_photo,training=True)\n",
    "        cycled_photo=generator_photo(fake_monet,training=True)\n",
    "        \n",
    "        fake_photo=generator_photo(real_monet,training=True)\n",
    "        cycled_monet=generator_monet(fake_photo,training=True)\n",
    "        \n",
    "        same_monet=generator_monet(real_monet,training=True)\n",
    "        same_photo=generator_photo(real_photo,training=True)\n",
    "        \n",
    "        real_monet_output=monet_discrimator(same_monet,training=True)\n",
    "        fake_monet_output=monet_discrimator(cycled_monet,training=True)\n",
    "        \n",
    "        real_photo_output=photo_discrimator(same_photo,training=True)\n",
    "        fake_photo_output=photo_discrimator(cycled_photo,training=True)\n",
    "        \n",
    "        monet_gen_loss=generator_loss(fake_monet_output)\n",
    "        photo_gen_loss=generator_loss(fake_photo_output)\n",
    "        \n",
    "        monet_disc_loss=discriminator_loss(real_monet_output,fake_monet_output)\n",
    "        photo_disc_loss=discriminator_loss(real_photo_output,fake_photo_output)\n",
    "    gradients_monet_generator=gen_tape.gradient(monet_gen_loss,generator_monet.trainable_variables)\n",
    "    gradients_photo_generator=gen_tape.gradient(photo_gen_loss,generator_photo.trainable_variables)\n",
    "    gradients_monet_discrimator=disc_tape.gradient(monet_disc_loss,monet_discrimator.trainable_variables)\n",
    "    gradients_photo_discrimator=disc_tape.gradient(photo_disc_loss,photo_discrimator.trainable_variables)\n",
    "    \n",
    "    monet_generator_optimizer.apply_gradients(zip(gradients_monet_generator,generator_monet.trainable_variables))\n",
    "    monet_discriminator_optimizer.apply_gradients(zip(gradients_monet_discrimator,monet_discrimator.trainable_variables))\n",
    "    photo_generator_optimizer.apply_gradients(zip(gradients_photo_generator,generator_photo.trainable_variables))\n",
    "    photo_discriminator_optimizer.apply_gradients(zip(gradients_photo_discrimator,photo_discrimator.trainable_variables))\n"
   ]
  },
  {
   "cell_type": "code",
   "execution_count": 10,
   "id": "b1b63e10",
   "metadata": {
    "execution": {
     "iopub.execute_input": "2023-06-28T18:12:48.610763Z",
     "iopub.status.busy": "2023-06-28T18:12:48.610491Z",
     "iopub.status.idle": "2023-06-28T18:12:48.615912Z",
     "shell.execute_reply": "2023-06-28T18:12:48.615053Z"
    },
    "papermill": {
     "duration": 0.012254,
     "end_time": "2023-06-28T18:12:48.617864",
     "exception": false,
     "start_time": "2023-06-28T18:12:48.605610",
     "status": "completed"
    },
    "tags": []
   },
   "outputs": [],
   "source": [
    "import time\n",
    "def train(epochs):\n",
    "    for epoch in range(epochs):\n",
    "        start=time.time()\n",
    "        for batch in tf.data.Dataset.zip((monet_ds, photo_ds)):\n",
    "            train_image(batch)"
   ]
  }
 ],
 "metadata": {
  "kernelspec": {
   "display_name": "Python 3",
   "language": "python",
   "name": "python3"
  },
  "language_info": {
   "codemirror_mode": {
    "name": "ipython",
    "version": 3
   },
   "file_extension": ".py",
   "mimetype": "text/x-python",
   "name": "python",
   "nbconvert_exporter": "python",
   "pygments_lexer": "ipython3",
   "version": "3.10.10"
  },
  "papermill": {
   "default_parameters": {},
   "duration": 34.778374,
   "end_time": "2023-06-28T18:12:51.843659",
   "environment_variables": {},
   "exception": null,
   "input_path": "__notebook__.ipynb",
   "output_path": "__notebook__.ipynb",
   "parameters": {},
   "start_time": "2023-06-28T18:12:17.065285",
   "version": "2.4.0"
  }
 },
 "nbformat": 4,
 "nbformat_minor": 5
}

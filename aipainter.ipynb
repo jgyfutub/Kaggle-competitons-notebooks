{
 "cells": [
  {
   "cell_type": "code",
   "execution_count": 1,
   "id": "0023c8dc",
   "metadata": {
    "_cell_guid": "b1076dfc-b9ad-4769-8c92-a6c4dae69d19",
    "_uuid": "8f2839f25d086af736a60e9eeb907d3b93b6e0e5",
    "execution": {
     "iopub.execute_input": "2023-06-28T13:13:28.418876Z",
     "iopub.status.busy": "2023-06-28T13:13:28.418525Z",
     "iopub.status.idle": "2023-06-28T13:13:40.094231Z",
     "shell.execute_reply": "2023-06-28T13:13:40.093121Z"
    },
    "papermill": {
     "duration": 11.682683,
     "end_time": "2023-06-28T13:13:40.096491",
     "exception": false,
     "start_time": "2023-06-28T13:13:28.413808",
     "status": "completed"
    },
    "tags": []
   },
   "outputs": [
    {
     "name": "stderr",
     "output_type": "stream",
     "text": [
      "/opt/conda/lib/python3.10/site-packages/tensorflow_io/python/ops/__init__.py:98: UserWarning: unable to load libtensorflow_io_plugins.so: unable to open file: libtensorflow_io_plugins.so, from paths: ['/opt/conda/lib/python3.10/site-packages/tensorflow_io/python/ops/libtensorflow_io_plugins.so']\n",
      "caused by: ['/opt/conda/lib/python3.10/site-packages/tensorflow_io/python/ops/libtensorflow_io_plugins.so: undefined symbol: _ZN3tsl6StatusC1EN10tensorflow5error4CodeESt17basic_string_viewIcSt11char_traitsIcEENS_14SourceLocationE']\n",
      "  warnings.warn(f\"unable to load libtensorflow_io_plugins.so: {e}\")\n",
      "/opt/conda/lib/python3.10/site-packages/tensorflow_io/python/ops/__init__.py:104: UserWarning: file system plugins are not loaded: unable to open file: libtensorflow_io.so, from paths: ['/opt/conda/lib/python3.10/site-packages/tensorflow_io/python/ops/libtensorflow_io.so']\n",
      "caused by: ['/opt/conda/lib/python3.10/site-packages/tensorflow_io/python/ops/libtensorflow_io.so: undefined symbol: _ZTVN10tensorflow13GcsFileSystemE']\n",
      "  warnings.warn(f\"file system plugins are not loaded: {e}\")\n"
     ]
    },
    {
     "name": "stdout",
     "output_type": "stream",
     "text": [
      "<_BatchDataset element_spec=TensorSpec(shape=(None, 256, 256, 3), dtype=tf.float32, name=None)>\n"
     ]
    }
   ],
   "source": [
    "import os\n",
    "import tensorflow as tf\n",
    "from tensorflow.keras import layers \n",
    "from kaggle_datasets import KaggleDatasets\n",
    "GCS_PATH = KaggleDatasets().get_gcs_path()\n",
    "AUTOTUNE = tf.data.experimental.AUTOTUNE\n",
    "MONET_FILENAMES = tf.io.gfile.glob(str(GCS_PATH + '/monet_tfrec/*.tfrec'))\n",
    "PHOTO_FILENAMES = tf.io.gfile.glob(str(GCS_PATH + '/photo_tfrec/*.tfrec'))\n",
    "def load_dataset(filenames, labeled=True, ordered=False):\n",
    "    dataset = tf.data.TFRecordDataset(filenames)\n",
    "    dataset = dataset.map(read_tfrecord, num_parallel_calls=AUTOTUNE)\n",
    "    return dataset\n",
    "def read_tfrecord(example):\n",
    "    tfrecord_format = {\n",
    "        \"image_name\": tf.io.FixedLenFeature([], tf.string),\n",
    "        \"image\": tf.io.FixedLenFeature([], tf.string),\n",
    "        \"target\": tf.io.FixedLenFeature([], tf.string)\n",
    "    }\n",
    "    example = tf.io.parse_single_example(example, tfrecord_format)\n",
    "    image = decode_image(example['image'])\n",
    "    return image\n",
    "def decode_image(image):\n",
    "    image = tf.image.decode_jpeg(image, channels=3)\n",
    "    image = (tf.cast(image, tf.float32) / 127.5) - 1\n",
    "    image = tf.reshape(image, [256,256, 3])\n",
    "    return image\n",
    "monet_ds = load_dataset(MONET_FILENAMES, labeled=True).batch(1)\n",
    "photo_ds = load_dataset(PHOTO_FILENAMES, labeled=True).batch(1)\n",
    "print(monet_ds)"
   ]
  },
  {
   "cell_type": "code",
   "execution_count": 2,
   "id": "c6f98140",
   "metadata": {
    "_cell_guid": "b1076dfc-b9ad-4769-8c92-a6c4dae69d19",
    "_uuid": "8f2839f25d086af736a60e9eeb907d3b93b6e0e5",
    "execution": {
     "iopub.execute_input": "2023-06-28T13:13:40.104568Z",
     "iopub.status.busy": "2023-06-28T13:13:40.103929Z",
     "iopub.status.idle": "2023-06-28T13:13:40.115141Z",
     "shell.execute_reply": "2023-06-28T13:13:40.114073Z"
    },
    "papermill": {
     "duration": 0.017402,
     "end_time": "2023-06-28T13:13:40.117258",
     "exception": false,
     "start_time": "2023-06-28T13:13:40.099856",
     "status": "completed"
    },
    "tags": []
   },
   "outputs": [],
   "source": [
    "def generator_model():\n",
    "    model =tf.keras.Sequential()\n",
    "    model.add(layers.Input(shape=(256,256,3)))\n",
    "    model.add(layers.Conv2DTranspose(128,5,padding='same',strides=(1,1)))\n",
    "    model.add(layers.BatchNormalization())\n",
    "    model.add(layers.LeakyReLU())\n",
    "    \n",
    "    model.add(layers.UpSampling2D())\n",
    "    model.add(layers.Conv2D(128,5,padding='same',strides=(2,2)))\n",
    "    model.add(layers.BatchNormalization())\n",
    "    model.add(layers.LeakyReLU())\n",
    "\n",
    "    model.add(layers.UpSampling2D())\n",
    "    model.add(layers.Conv2D(128,5,padding='same',strides=(3,3)))\n",
    "    model.add(layers.BatchNormalization())\n",
    "    model.add(layers.LeakyReLU())\n",
    "    \n",
    "    model.add(layers.Conv2D(128,4,padding='same',strides=(3,3)))\n",
    "    model.add(layers.BatchNormalization())\n",
    "    model.add(layers.LeakyReLU())\n",
    "    \n",
    "    model.add(layers.Conv2D(128,4,padding='same',strides=(2,2)))\n",
    "    model.add(layers.BatchNormalization())\n",
    "    model.add(layers.LeakyReLU())\n",
    "    \n",
    "    model.add(layers.Conv2D(128,4,padding='same',strides=(1,1)))\n",
    "    model.add(layers.BatchNormalization())\n",
    "    model.add(layers.LeakyReLU())\n",
    "    \n",
    "    model.add(layers.Conv2D(1,4,padding='same',activation='sigmoid'))\n",
    "    return model"
   ]
  },
  {
   "cell_type": "code",
   "execution_count": 3,
   "id": "88bd6b00",
   "metadata": {
    "execution": {
     "iopub.execute_input": "2023-06-28T13:13:40.124489Z",
     "iopub.status.busy": "2023-06-28T13:13:40.124209Z",
     "iopub.status.idle": "2023-06-28T13:13:47.375656Z",
     "shell.execute_reply": "2023-06-28T13:13:47.374696Z"
    },
    "papermill": {
     "duration": 7.258182,
     "end_time": "2023-06-28T13:13:47.378467",
     "exception": false,
     "start_time": "2023-06-28T13:13:40.120285",
     "status": "completed"
    },
    "tags": []
   },
   "outputs": [],
   "source": [
    "generator_monet=generator_model()\n",
    "generator_photo=generator_model()\n",
    "generated_image=generator_monet(next(iter(monet_ds)),training=False)"
   ]
  },
  {
   "cell_type": "code",
   "execution_count": 4,
   "id": "eba5fe3c",
   "metadata": {
    "execution": {
     "iopub.execute_input": "2023-06-28T13:13:47.386365Z",
     "iopub.status.busy": "2023-06-28T13:13:47.386041Z",
     "iopub.status.idle": "2023-06-28T13:13:47.669119Z",
     "shell.execute_reply": "2023-06-28T13:13:47.668257Z"
    },
    "papermill": {
     "duration": 0.289169,
     "end_time": "2023-06-28T13:13:47.671101",
     "exception": false,
     "start_time": "2023-06-28T13:13:47.381932",
     "status": "completed"
    },
    "tags": []
   },
   "outputs": [
    {
     "data": {
      "text/plain": [
       "<matplotlib.image.AxesImage at 0x79cfce7eab90>"
      ]
     },
     "execution_count": 4,
     "metadata": {},
     "output_type": "execute_result"
    },
    {
     "data": {
      "image/png": "[encoded data removed]",
      "text/plain": [
       "<Figure size 640x480 with 1 Axes>"
      ]
     },
     "metadata": {},
     "output_type": "display_data"
    }
   ],
   "source": [
    "import matplotlib.pyplot as plt\n",
    "plt.imshow(generated_image[0,:,:,0])"
   ]
  },
  {
   "cell_type": "code",
   "execution_count": 5,
   "id": "af219404",
   "metadata": {
    "execution": {
     "iopub.execute_input": "2023-06-28T13:13:47.679382Z",
     "iopub.status.busy": "2023-06-28T13:13:47.679070Z",
     "iopub.status.idle": "2023-06-28T13:13:47.687996Z",
     "shell.execute_reply": "2023-06-28T13:13:47.687147Z"
    },
    "papermill": {
     "duration": 0.015535,
     "end_time": "2023-06-28T13:13:47.690266",
     "exception": false,
     "start_time": "2023-06-28T13:13:47.674731",
     "status": "completed"
    },
    "tags": []
   },
   "outputs": [],
   "source": [
    "from tensorflow.keras.models import Model\n",
    "def discrimatior_model():\n",
    "    model =tf.keras.Sequential()\n",
    "    model.add(layers.Input(shape=[29,29,1]))\n",
    "    model.add(layers.Conv2D(128,4,strides=(1,1),padding='same'))\n",
    "    model.add(layers.LeakyReLU())\n",
    "    model.add(layers.Dropout(0.2))\n",
    "    \n",
    "    model.add(layers.Conv2D(128,4,strides=(2,2),padding='same'))\n",
    "    model.add(layers.LeakyReLU())\n",
    "    model.add(layers.Dropout(0.2))\n",
    "    \n",
    "    model.add(layers.Conv2D(256,4,strides=(3,3),padding='same'))\n",
    "    model.add(layers.LeakyReLU())\n",
    "    model.add(layers.Dropout(0.2))\n",
    "\n",
    "    \n",
    "    model.add(layers.ZeroPadding2D())\n",
    "    model.add(layers.Flatten())\n",
    "    model.add(layers.Dense(1))\n",
    "    return model"
   ]
  },
  {
   "cell_type": "code",
   "execution_count": 6,
   "id": "06aa2618",
   "metadata": {
    "execution": {
     "iopub.execute_input": "2023-06-28T13:13:47.698812Z",
     "iopub.status.busy": "2023-06-28T13:13:47.697925Z",
     "iopub.status.idle": "2023-06-28T13:13:47.846501Z",
     "shell.execute_reply": "2023-06-28T13:13:47.845118Z"
    },
    "papermill": {
     "duration": 0.155088,
     "end_time": "2023-06-28T13:13:47.848716",
     "exception": false,
     "start_time": "2023-06-28T13:13:47.693628",
     "status": "completed"
    },
    "tags": []
   },
   "outputs": [
    {
     "name": "stdout",
     "output_type": "stream",
     "text": [
      "tf.Tensor([[-0.01116156]], shape=(1, 1), dtype=float32)\n"
     ]
    }
   ],
   "source": [
    "discrimator=discrimatior_model()\n",
    "print(discrimator(generated_image))"
   ]
  },
  {
   "cell_type": "code",
   "execution_count": 7,
   "id": "8f6cddfd",
   "metadata": {
    "execution": {
     "iopub.execute_input": "2023-06-28T13:13:47.857174Z",
     "iopub.status.busy": "2023-06-28T13:13:47.856898Z",
     "iopub.status.idle": "2023-06-28T13:13:47.869538Z",
     "shell.execute_reply": "2023-06-28T13:13:47.868700Z"
    },
    "papermill": {
     "duration": 0.019095,
     "end_time": "2023-06-28T13:13:47.871438",
     "exception": false,
     "start_time": "2023-06-28T13:13:47.852343",
     "status": "completed"
    },
    "tags": []
   },
   "outputs": [],
   "source": [
    "cross_entropy=tf.keras.losses.BinaryCrossentropy(from_logits=True)\n",
    "def discriminator_loss(real,fake):\n",
    "    real_loss=cross_entropy(tf.ones_like(real),real)\n",
    "    fake_loss=cross_entropy(tf.zeros_like(fake),fake)\n",
    "    loss=real_loss+fake_loss\n",
    "    return loss\n",
    "def generator_loss(fake):\n",
    "    return cross_entropy(tf.zeros_like(fake),fake)\n",
    "monet_generator_optimizer=tf.keras.optimizers.Adam(1e-4)\n",
    "monet_discriminator_optimizer=tf.keras.optimizers.Adam(1e-4)\n",
    "photo_generator_optimizer=tf.keras.optimizers.Adam(1e-4)\n",
    "photo_discriminator_optimizer=tf.keras.optimizers.Adam(1e-4)"
   ]
  },
  {
   "cell_type": "code",
   "execution_count": 8,
   "id": "ccaf5d17",
   "metadata": {
    "execution": {
     "iopub.execute_input": "2023-06-28T13:13:47.879700Z",
     "iopub.status.busy": "2023-06-28T13:13:47.879158Z",
     "iopub.status.idle": "2023-06-28T13:13:47.886139Z",
     "shell.execute_reply": "2023-06-28T13:13:47.885174Z"
    },
    "papermill": {
     "duration": 0.013555,
     "end_time": "2023-06-28T13:13:47.888456",
     "exception": false,
     "start_time": "2023-06-28T13:13:47.874901",
     "status": "completed"
    },
    "tags": []
   },
   "outputs": [],
   "source": [
    "@tf.function\n",
    "def train_image(image):\n",
    "    noise=tf.random.normal([1,100])\n",
    "    with tf.GradientTape() as gen_tape,tf.GradientTape() as disc_tape:\n",
    "        generated_image=generator(noise,training=True)\n",
    "        \n",
    "        real_output=discriminator(image,training=True)\n",
    "        fake_output=discriminator(generated_image,training=True)\n",
    "        \n",
    "        gen_loss=generator_loss(fake_output)\n",
    "        disc_loss=discriminator_loss(real_output,fake_output)\n",
    "    gradients_generator=gen_tape.gradient(gen_loss,generator.trainable_variables)\n",
    "    gradients_discriminator=disc_tape.gradient(gen_loss,discriminator.trainable_variables)\n",
    "    generator_optimizer.apply_gradients(zip(gradients_generator,generator.trainable_variables))\n",
    "    discriminator_optimizer.apply_gradients(zip(gradients_discriminator,discriminator.trainable_variables))"
   ]
  }
 ],
 "metadata": {
  "kernelspec": {
   "display_name": "Python 3",
   "language": "python",
   "name": "python3"
  },
  "language_info": {
   "codemirror_mode": {
    "name": "ipython",
    "version": 3
   },
   "file_extension": ".py",
   "mimetype": "text/x-python",
   "name": "python",
   "nbconvert_exporter": "python",
   "pygments_lexer": "ipython3",
   "version": "3.10.10"
  },
  "papermill": {
   "default_parameters": {},
   "duration": 33.745578,
   "end_time": "2023-06-28T13:13:51.615941",
   "environment_variables": {},
   "exception": null,
   "input_path": "__notebook__.ipynb",
   "output_path": "__notebook__.ipynb",
   "parameters": {},
   "start_time": "2023-06-28T13:13:17.870363",
   "version": "2.4.0"
  }
 },
 "nbformat": 4,
 "nbformat_minor": 5
}

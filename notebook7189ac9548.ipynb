{
 "cells": [
  {
   "cell_type": "code",
   "execution_count": 1,
   "id": "d2e53d7e",
   "metadata": {
    "_cell_guid": "b1076dfc-b9ad-4769-8c92-a6c4dae69d19",
    "_uuid": "8f2839f25d086af736a60e9eeb907d3b93b6e0e5",
    "execution": {
     "iopub.execute_input": "2023-06-23T18:44:04.400581Z",
     "iopub.status.busy": "2023-06-23T18:44:04.400229Z",
     "iopub.status.idle": "2023-06-23T18:44:06.049857Z",
     "shell.execute_reply": "2023-06-23T18:44:06.049098Z"
    },
    "papermill": {
     "duration": 1.655919,
     "end_time": "2023-06-23T18:44:06.052398",
     "exception": false,
     "start_time": "2023-06-23T18:44:04.396479",
     "status": "completed"
    },
    "tags": []
   },
   "outputs": [],
   "source": [
    "import numpy as np\n",
    "import pandas as pd\n",
    "import xgboost as xgb\n",
    "from sklearn.model_selection import train_test_split\n",
    "from sklearn.preprocessing import LabelEncoder\n",
    "from sklearn.feature_selection import SelectFromModel\n",
    "from sklearn.model_selection import GridSearchCV\n",
    "train=pd.read_csv('/kaggle/input/icr-identify-age-related-conditions/train.csv')\n",
    "test=pd.read_csv('/kaggle/input/icr-identify-age-related-conditions/test.csv')\n",
    "greeks=pd.read_csv('/kaggle/input/icr-identify-age-related-conditions/greeks.csv')\n",
    "train_result=train['Class']\n",
    "train.pop('Class')\n",
    "train.pop('Id')\n",
    "train=train.interpolate(method='cubic',limit_direction='forward')\n",
    "le=LabelEncoder()\n",
    "label = le.fit_transform(train['EJ'])\n",
    "train.drop('EJ', axis=1, inplace=True)\n",
    "train['EJ'] = label\n",
    "selector = SelectFromModel(xgb.XGBClassifier())\n",
    "train_imputed = selector.fit_transform(train, train_result)"
   ]
  },
  {
   "cell_type": "code",
   "execution_count": 2,
   "id": "3fd23391",
   "metadata": {
    "execution": {
     "iopub.execute_input": "2023-06-23T18:44:06.059393Z",
     "iopub.status.busy": "2023-06-23T18:44:06.058943Z",
     "iopub.status.idle": "2023-06-23T18:44:06.179867Z",
     "shell.execute_reply": "2023-06-23T18:44:06.179022Z"
    },
    "papermill": {
     "duration": 0.126672,
     "end_time": "2023-06-23T18:44:06.182053",
     "exception": false,
     "start_time": "2023-06-23T18:44:06.055381",
     "status": "completed"
    },
    "tags": []
   },
   "outputs": [
    {
     "data": {
      "text/html": [
       "<style>#sk-container-id-1 {color: black;background-color: white;}#sk-container-id-1 pre{padding: 0;}#sk-container-id-1 div.sk-toggleable {background-color: white;}#sk-container-id-1 label.sk-toggleable__label {cursor: pointer;display: block;width: 100%;margin-bottom: 0;padding: 0.3em;box-sizing: border-box;text-align: center;}#sk-container-id-1 label.sk-toggleable__label-arrow:before {content: \"▸\";float: left;margin-right: 0.25em;color: #696969;}#sk-container-id-1 label.sk-toggleable__label-arrow:hover:before {color: black;}#sk-container-id-1 div.sk-estimator:hover label.sk-toggleable__label-arrow:before {color: black;}#sk-container-id-1 div.sk-toggleable__content {max-height: 0;max-width: 0;overflow: hidden;text-align: left;background-color: #f0f8ff;}#sk-container-id-1 div.sk-toggleable__content pre {margin: 0.2em;color: black;border-radius: 0.25em;background-color: #f0f8ff;}#sk-container-id-1 input.sk-toggleable__control:checked~div.sk-toggleable__content {max-height: 200px;max-width: 100%;overflow: auto;}#sk-container-id-1 input.sk-toggleable__control:checked~label.sk-toggleable__label-arrow:before {content: \"▾\";}#sk-container-id-1 div.sk-estimator input.sk-toggleable__control:checked~label.sk-toggleable__label {background-color: #d4ebff;}#sk-container-id-1 div.sk-label input.sk-toggleable__control:checked~label.sk-toggleable__label {background-color: #d4ebff;}#sk-container-id-1 input.sk-hidden--visually {border: 0;clip: rect(1px 1px 1px 1px);clip: rect(1px, 1px, 1px, 1px);height: 1px;margin: -1px;overflow: hidden;padding: 0;position: absolute;width: 1px;}#sk-container-id-1 div.sk-estimator {font-family: monospace;background-color: #f0f8ff;border: 1px dotted black;border-radius: 0.25em;box-sizing: border-box;margin-bottom: 0.5em;}#sk-container-id-1 div.sk-estimator:hover {background-color: #d4ebff;}#sk-container-id-1 div.sk-parallel-item::after {content: \"\";width: 100%;border-bottom: 1px solid gray;flex-grow: 1;}#sk-container-id-1 div.sk-label:hover label.sk-toggleable__label {background-color: #d4ebff;}#sk-container-id-1 div.sk-serial::before {content: \"\";position: absolute;border-left: 1px solid gray;box-sizing: border-box;top: 0;bottom: 0;left: 50%;z-index: 0;}#sk-container-id-1 div.sk-serial {display: flex;flex-direction: column;align-items: center;background-color: white;padding-right: 0.2em;padding-left: 0.2em;position: relative;}#sk-container-id-1 div.sk-item {position: relative;z-index: 1;}#sk-container-id-1 div.sk-parallel {display: flex;align-items: stretch;justify-content: center;background-color: white;position: relative;}#sk-container-id-1 div.sk-item::before, #sk-container-id-1 div.sk-parallel-item::before {content: \"\";position: absolute;border-left: 1px solid gray;box-sizing: border-box;top: 0;bottom: 0;left: 50%;z-index: -1;}#sk-container-id-1 div.sk-parallel-item {display: flex;flex-direction: column;z-index: 1;position: relative;background-color: white;}#sk-container-id-1 div.sk-parallel-item:first-child::after {align-self: flex-end;width: 50%;}#sk-container-id-1 div.sk-parallel-item:last-child::after {align-self: flex-start;width: 50%;}#sk-container-id-1 div.sk-parallel-item:only-child::after {width: 0;}#sk-container-id-1 div.sk-dashed-wrapped {border: 1px dashed gray;margin: 0 0.4em 0.5em 0.4em;box-sizing: border-box;padding-bottom: 0.4em;background-color: white;}#sk-container-id-1 div.sk-label label {font-family: monospace;font-weight: bold;display: inline-block;line-height: 1.2em;}#sk-container-id-1 div.sk-label-container {text-align: center;}#sk-container-id-1 div.sk-container {/* jupyter's `normalize.less` sets `[hidden] { display: none; }` but bootstrap.min.css set `[hidden] { display: none !important; }` so we also need the `!important` here to be able to override the default hidden behavior on the sphinx rendered scikit-learn.org. See: https://github.com/scikit-learn/scikit-learn/issues/21755 */display: inline-block !important;position: relative;}#sk-container-id-1 div.sk-text-repr-fallback {display: none;}</style><div id=\"sk-container-id-1\" class=\"sk-top-container\"><div class=\"sk-text-repr-fallback\"><pre>XGBClassifier(base_score=None, booster=None, callbacks=None,\n",
       "              colsample_bylevel=None, colsample_bynode=None,\n",
       "              colsample_bytree=None, early_stopping_rounds=None,\n",
       "              enable_categorical=False, eval_metric=None, feature_types=None,\n",
       "              gamma=None, gpu_id=None, grow_policy=None, importance_type=None,\n",
       "              interaction_constraints=None, learning_rate=0.01, max_bin=None,\n",
       "              max_cat_threshold=None, max_cat_to_onehot=None,\n",
       "              max_delta_step=None, max_depth=3, max_leaves=None,\n",
       "              min_child_weight=None, missing=nan, monotone_constraints=None,\n",
       "              n_estimators=100, n_jobs=None, num_parallel_tree=None,\n",
       "              predictor=None, random_state=None, ...)</pre><b>In a Jupyter environment, please rerun this cell to show the HTML representation or trust the notebook. <br />On GitHub, the HTML representation is unable to render, please try loading this page with nbviewer.org.</b></div><div class=\"sk-container\" hidden><div class=\"sk-item\"><div class=\"sk-estimator sk-toggleable\"><input class=\"sk-toggleable__control sk-hidden--visually\" id=\"sk-estimator-id-1\" type=\"checkbox\" checked><label for=\"sk-estimator-id-1\" class=\"sk-toggleable__label sk-toggleable__label-arrow\">XGBClassifier</label><div class=\"sk-toggleable__content\"><pre>XGBClassifier(base_score=None, booster=None, callbacks=None,\n",
       "              colsample_bylevel=None, colsample_bynode=None,\n",
       "              colsample_bytree=None, early_stopping_rounds=None,\n",
       "              enable_categorical=False, eval_metric=None, feature_types=None,\n",
       "              gamma=None, gpu_id=None, grow_policy=None, importance_type=None,\n",
       "              interaction_constraints=None, learning_rate=0.01, max_bin=None,\n",
       "              max_cat_threshold=None, max_cat_to_onehot=None,\n",
       "              max_delta_step=None, max_depth=3, max_leaves=None,\n",
       "              min_child_weight=None, missing=nan, monotone_constraints=None,\n",
       "              n_estimators=100, n_jobs=None, num_parallel_tree=None,\n",
       "              predictor=None, random_state=None, ...)</pre></div></div></div></div></div>"
      ],
      "text/plain": [
       "XGBClassifier(base_score=None, booster=None, callbacks=None,\n",
       "              colsample_bylevel=None, colsample_bynode=None,\n",
       "              colsample_bytree=None, early_stopping_rounds=None,\n",
       "              enable_categorical=False, eval_metric=None, feature_types=None,\n",
       "              gamma=None, gpu_id=None, grow_policy=None, importance_type=None,\n",
       "              interaction_constraints=None, learning_rate=0.01, max_bin=None,\n",
       "              max_cat_threshold=None, max_cat_to_onehot=None,\n",
       "              max_delta_step=None, max_depth=3, max_leaves=None,\n",
       "              min_child_weight=None, missing=nan, monotone_constraints=None,\n",
       "              n_estimators=100, n_jobs=None, num_parallel_tree=None,\n",
       "              predictor=None, random_state=None, ...)"
      ]
     },
     "execution_count": 2,
     "metadata": {},
     "output_type": "execute_result"
    }
   ],
   "source": [
    "params_space = {\n",
    "    'n_estimators': 100,\n",
    "    'max_depth': 3,\n",
    "    'learning_rate': 0.01\n",
    "}\n",
    "model = xgb.XGBClassifier(**params_space)\n",
    "model.fit(train_imputed,train_result)"
   ]
  },
  {
   "cell_type": "code",
   "execution_count": 3,
   "id": "66daa6f2",
   "metadata": {
    "execution": {
     "iopub.execute_input": "2023-06-23T18:44:06.189359Z",
     "iopub.status.busy": "2023-06-23T18:44:06.188001Z",
     "iopub.status.idle": "2023-06-23T18:44:06.197735Z",
     "shell.execute_reply": "2023-06-23T18:44:06.196935Z"
    },
    "papermill": {
     "duration": 0.014981,
     "end_time": "2023-06-23T18:44:06.199552",
     "exception": false,
     "start_time": "2023-06-23T18:44:06.184571",
     "status": "completed"
    },
    "tags": []
   },
   "outputs": [],
   "source": [
    "test.pop('Id')\n",
    "le=LabelEncoder()\n",
    "label = le.fit_transform(test['EJ'])\n",
    "test.drop('EJ', axis=1, inplace=True)\n",
    "test['EJ'] = label\n",
    "test=test.interpolate(method='cubic',limit_direction='forward')"
   ]
  },
  {
   "cell_type": "code",
   "execution_count": 4,
   "id": "d7995263",
   "metadata": {
    "execution": {
     "iopub.execute_input": "2023-06-23T18:44:06.205892Z",
     "iopub.status.busy": "2023-06-23T18:44:06.205058Z",
     "iopub.status.idle": "2023-06-23T18:44:06.215898Z",
     "shell.execute_reply": "2023-06-23T18:44:06.214934Z"
    },
    "papermill": {
     "duration": 0.016104,
     "end_time": "2023-06-23T18:44:06.218034",
     "exception": false,
     "start_time": "2023-06-23T18:44:06.201930",
     "status": "completed"
    },
    "tags": []
   },
   "outputs": [
    {
     "data": {
      "text/plain": [
       "array([[0., 0., 0., 0., 0., 0., 0., 0., 0., 0., 0., 0., 0., 0., 0., 0.,\n",
       "        0.],\n",
       "       [0., 0., 0., 0., 0., 0., 0., 0., 0., 0., 0., 0., 0., 0., 0., 0.,\n",
       "        0.],\n",
       "       [0., 0., 0., 0., 0., 0., 0., 0., 0., 0., 0., 0., 0., 0., 0., 0.,\n",
       "        0.],\n",
       "       [0., 0., 0., 0., 0., 0., 0., 0., 0., 0., 0., 0., 0., 0., 0., 0.,\n",
       "        0.],\n",
       "       [0., 0., 0., 0., 0., 0., 0., 0., 0., 0., 0., 0., 0., 0., 0., 0.,\n",
       "        0.]])"
      ]
     },
     "execution_count": 4,
     "metadata": {},
     "output_type": "execute_result"
    }
   ],
   "source": [
    "test_imputed = selector.transform(test)\n",
    "test_imputed"
   ]
  },
  {
   "cell_type": "code",
   "execution_count": 5,
   "id": "2a1b2f76",
   "metadata": {
    "execution": {
     "iopub.execute_input": "2023-06-23T18:44:06.223974Z",
     "iopub.status.busy": "2023-06-23T18:44:06.223718Z",
     "iopub.status.idle": "2023-06-23T18:44:06.230042Z",
     "shell.execute_reply": "2023-06-23T18:44:06.229455Z"
    },
    "papermill": {
     "duration": 0.014087,
     "end_time": "2023-06-23T18:44:06.234576",
     "exception": false,
     "start_time": "2023-06-23T18:44:06.220489",
     "status": "completed"
    },
    "tags": []
   },
   "outputs": [
    {
     "data": {
      "text/plain": [
       "array([[0.58605504, 0.41394496],\n",
       "       [0.58605504, 0.41394496],\n",
       "       [0.58605504, 0.41394496],\n",
       "       [0.58605504, 0.41394496],\n",
       "       [0.58605504, 0.41394496]], dtype=float32)"
      ]
     },
     "execution_count": 5,
     "metadata": {},
     "output_type": "execute_result"
    }
   ],
   "source": [
    "model.predict_proba(test_imputed)"
   ]
  }
 ],
 "metadata": {
  "kernelspec": {
   "display_name": "Python 3",
   "language": "python",
   "name": "python3"
  },
  "language_info": {
   "codemirror_mode": {
    "name": "ipython",
    "version": 3
   },
   "file_extension": ".py",
   "mimetype": "text/x-python",
   "name": "python",
   "nbconvert_exporter": "python",
   "pygments_lexer": "ipython3",
   "version": "3.10.10"
  },
  "papermill": {
   "default_parameters": {},
   "duration": 12.763846,
   "end_time": "2023-06-23T18:44:06.856579",
   "environment_variables": {},
   "exception": null,
   "input_path": "__notebook__.ipynb",
   "output_path": "__notebook__.ipynb",
   "parameters": {},
   "start_time": "2023-06-23T18:43:54.092733",
   "version": "2.4.0"
  }
 },
 "nbformat": 4,
 "nbformat_minor": 5
}

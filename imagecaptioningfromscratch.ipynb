{
 "cells": [
  {
   "cell_type": "code",
   "execution_count": 1,
   "id": "ed8a0948",
   "metadata": {
    "execution": {
     "iopub.execute_input": "2024-01-19T11:01:47.657081Z",
     "iopub.status.busy": "2024-01-19T11:01:47.656631Z",
     "iopub.status.idle": "2024-01-19T11:02:00.635262Z",
     "shell.execute_reply": "2024-01-19T11:02:00.633942Z"
    },
    "papermill": {
     "duration": 12.985924,
     "end_time": "2024-01-19T11:02:00.637740",
     "exception": false,
     "start_time": "2024-01-19T11:01:47.651816",
     "status": "completed"
    },
    "tags": []
   },
   "outputs": [],
   "source": [
    "import tensorflow as tf\n",
    "from tensorflow.keras.layers import Embedding\n",
    "from tensorflow.keras.preprocessing import image\n",
    "from tensorflow.keras.preprocessing.text import Tokenizer\n",
    "from tensorflow.keras.preprocessing.sequence import pad_sequences\n",
    "from tensorflow.keras.applications.vgg16 import VGG16, preprocess_input, decode_predictions\n",
    "import numpy as np"
   ]
  },
  {
   "cell_type": "code",
   "execution_count": 2,
   "id": "5ee7a65f",
   "metadata": {
    "_cell_guid": "b1076dfc-b9ad-4769-8c92-a6c4dae69d19",
    "_uuid": "8f2839f25d086af736a60e9eeb907d3b93b6e0e5",
    "execution": {
     "iopub.execute_input": "2024-01-19T11:02:00.645661Z",
     "iopub.status.busy": "2024-01-19T11:02:00.644949Z",
     "iopub.status.idle": "2024-01-19T11:02:00.716806Z",
     "shell.execute_reply": "2024-01-19T11:02:00.715204Z"
    },
    "papermill": {
     "duration": 0.078109,
     "end_time": "2024-01-19T11:02:00.719125",
     "exception": false,
     "start_time": "2024-01-19T11:02:00.641016",
     "status": "completed"
    },
    "tags": []
   },
   "outputs": [
    {
     "name": "stdout",
     "output_type": "stream",
     "text": [
      "40455 40455\n"
     ]
    }
   ],
   "source": [
    "file_path = '/kaggle/input/flickr8k/captions.txt'\n",
    "image_urls=[]\n",
    "captions=[]\n",
    "with open(file_path, 'r') as file:\n",
    "    for line in file:\n",
    "        image_urls.append(line.strip().split(\",\")[0])\n",
    "        captions.append(line.strip().split(\",\")[1])\n",
    "image_urls.pop(0)\n",
    "captions.pop(0)\n",
    "print(len(image_urls),len(captions))"
   ]
  },
  {
   "cell_type": "code",
   "execution_count": 3,
   "id": "0f7ec98c",
   "metadata": {
    "execution": {
     "iopub.execute_input": "2024-01-19T11:02:00.726853Z",
     "iopub.status.busy": "2024-01-19T11:02:00.726442Z",
     "iopub.status.idle": "2024-01-19T11:02:00.731934Z",
     "shell.execute_reply": "2024-01-19T11:02:00.730889Z"
    },
    "papermill": {
     "duration": 0.011737,
     "end_time": "2024-01-19T11:02:00.734055",
     "exception": false,
     "start_time": "2024-01-19T11:02:00.722318",
     "status": "completed"
    },
    "tags": []
   },
   "outputs": [],
   "source": [
    "tokenizer = Tokenizer()\n",
    "def Tokenize(sentence):\n",
    "    global tokenizer\n",
    "    tokenizer.fit_on_texts([sentence])\n",
    "    sequence = tokenizer.texts_to_sequences([sentence])\n",
    "    sequence_length = 50  \n",
    "    padded_sequence = tf.keras.preprocessing.sequence.pad_sequences(sequence, maxlen=sequence_length)\n",
    "    return padded_sequence"
   ]
  },
  {
   "cell_type": "code",
   "execution_count": 4,
   "id": "00758acb",
   "metadata": {
    "execution": {
     "iopub.execute_input": "2024-01-19T11:02:00.741782Z",
     "iopub.status.busy": "2024-01-19T11:02:00.741381Z",
     "iopub.status.idle": "2024-01-19T11:02:06.728157Z",
     "shell.execute_reply": "2024-01-19T11:02:06.727006Z"
    },
    "papermill": {
     "duration": 5.99369,
     "end_time": "2024-01-19T11:02:06.730791",
     "exception": false,
     "start_time": "2024-01-19T11:02:00.737101",
     "status": "completed"
    },
    "tags": []
   },
   "outputs": [
    {
     "name": "stdout",
     "output_type": "stream",
     "text": [
      "Downloading data from https://storage.googleapis.com/tensorflow/keras-applications/vgg16/vgg16_weights_tf_dim_ordering_tf_kernels.h5\n",
      "553467096/553467096 [==============================] - 2s 0us/step\n"
     ]
    }
   ],
   "source": [
    "model = VGG16(weights='imagenet')\n",
    "def encoder(img):\n",
    "    global model\n",
    "    img = image.load_img(\"/kaggle/input/flickr8k/Images/\"+img, target_size=(224, 224))\n",
    "    img_array = image.img_to_array(img)\n",
    "    img_array = np.expand_dims(img_array, axis=0)\n",
    "    img_array = preprocess_input(img_array)\n",
    "    image_features=model.predict(img_array)\n",
    "    return image_features"
   ]
  },
  {
   "cell_type": "code",
   "execution_count": 5,
   "id": "c61e022e",
   "metadata": {
    "execution": {
     "iopub.execute_input": "2024-01-19T11:02:06.744786Z",
     "iopub.status.busy": "2024-01-19T11:02:06.744348Z",
     "iopub.status.idle": "2024-01-19T11:02:06.752050Z",
     "shell.execute_reply": "2024-01-19T11:02:06.750708Z"
    },
    "papermill": {
     "duration": 0.017348,
     "end_time": "2024-01-19T11:02:06.754277",
     "exception": false,
     "start_time": "2024-01-19T11:02:06.736929",
     "status": "completed"
    },
    "tags": []
   },
   "outputs": [],
   "source": [
    "def decoder(image_features,caption_embeddings):\n",
    "    global v,Wh,Ws,battn,decoder_state,opt,LSTM_model,output\n",
    "    with tf.GradientTape() as tape:\n",
    "        caption_embeddings=tf.convert_to_tensor(caption_embeddings)\n",
    "        captions_features=LSTM_model(caption_embeddings)\n",
    "        e_t_i = v * tf.nn.tanh(Wh * image_features+ Ws*decoder_state+  battn)\n",
    "        attention_distributon=tf.nn.softmax(e_t_i)\n",
    "        context_vector=attention_distributon*image_features\n",
    "        combined=captions_features+attention_distributon\n",
    "        model_output = output(combined)\n",
    "        loss = tf.keras.losses.mean_squared_error(captions_features, model_output)\n",
    "    grads = tape.gradient(loss, LSTM_model.trainable_variables+output.trainable_variables+[v,Wh,Ws,battn])\n",
    "    opt.apply_gradients(zip(grads, LSTM_model.trainable_variables+output.trainable_variables+[v,Wh,Ws,battn]))\n",
    "    decoder_state=(decoder_state+context_vector)/2\n",
    "    print(loss)"
   ]
  },
  {
   "cell_type": "code",
   "execution_count": 6,
   "id": "c7f6cef9",
   "metadata": {
    "execution": {
     "iopub.execute_input": "2024-01-19T11:02:06.767667Z",
     "iopub.status.busy": "2024-01-19T11:02:06.767220Z",
     "iopub.status.idle": "2024-01-19T11:02:07.135921Z",
     "shell.execute_reply": "2024-01-19T11:02:07.135077Z"
    },
    "papermill": {
     "duration": 0.378134,
     "end_time": "2024-01-19T11:02:07.138265",
     "exception": false,
     "start_time": "2024-01-19T11:02:06.760131",
     "status": "completed"
    },
    "tags": []
   },
   "outputs": [],
   "source": [
    "v = tf.Variable( tf.random.normal(shape=(1,1000)), trainable=True, name='v')\n",
    "Wh = tf.Variable(tf.random.normal(shape=(1,1000)), trainable=True, name='Wh')\n",
    "Ws = tf.Variable(tf.random.normal(shape=(1,1000)), trainable=True, name='Ws')\n",
    "battn = tf.Variable(tf.random.normal(shape=(1,1000)), trainable=True, name='battn')\n",
    "decoder_state = tf.zeros((1,1000))\n",
    "opt = tf.keras.optimizers.Adam(learning_rate=0.01)\n",
    "LSTM_model = tf.keras.Sequential([ Embedding(input_dim=10000 ,output_dim=20, input_length=50),\n",
    "tf.keras.layers.LSTM(64, input_shape=(1, 50,20)),\n",
    "tf.keras.layers.Dense(1000)])\n",
    "output = tf.keras.Sequential([tf.keras.layers.Dense(1000, activation='softmax')])"
   ]
  },
  {
   "cell_type": "code",
   "execution_count": 7,
   "id": "beaebbf7",
   "metadata": {
    "execution": {
     "iopub.execute_input": "2024-01-19T11:02:07.151422Z",
     "iopub.status.busy": "2024-01-19T11:02:07.151049Z",
     "iopub.status.idle": "2024-01-19T11:02:07.156583Z",
     "shell.execute_reply": "2024-01-19T11:02:07.155502Z"
    },
    "papermill": {
     "duration": 0.014731,
     "end_time": "2024-01-19T11:02:07.158801",
     "exception": false,
     "start_time": "2024-01-19T11:02:07.144070",
     "status": "completed"
    },
    "tags": []
   },
   "outputs": [],
   "source": [
    "def train(image_urls,captions):\n",
    "    for i in range(len(captions)):\n",
    "        tokens=Tokenize(captions[i])\n",
    "        image_features=encoder(image_urls[1])\n",
    "        decoder(image_features,tokens)"
   ]
  },
  {
   "cell_type": "code",
   "execution_count": 8,
   "id": "4bc69d02",
   "metadata": {
    "execution": {
     "iopub.execute_input": "2024-01-19T11:02:07.172179Z",
     "iopub.status.busy": "2024-01-19T11:02:07.171753Z",
     "iopub.status.idle": "2024-01-19T11:02:34.606574Z",
     "shell.execute_reply": "2024-01-19T11:02:34.604911Z"
    },
    "papermill": {
     "duration": 27.444626,
     "end_time": "2024-01-19T11:02:34.609256",
     "exception": false,
     "start_time": "2024-01-19T11:02:07.164630",
     "status": "completed"
    },
    "tags": []
   },
   "outputs": [
    {
     "name": "stdout",
     "output_type": "stream",
     "text": [
      "1/1 [==============================] - 1s 812ms/step\n",
      "tf.Tensor([4.0534837e-06], shape=(1,), dtype=float32)\n",
      "1/1 [==============================] - 0s 301ms/step\n",
      "tf.Tensor([7.055401e-05], shape=(1,), dtype=float32)\n",
      "1/1 [==============================] - 0s 307ms/step\n",
      "tf.Tensor([1.4666142e-05], shape=(1,), dtype=float32)\n",
      "1/1 [==============================] - 0s 303ms/step\n",
      "tf.Tensor([2.1281496e-05], shape=(1,), dtype=float32)\n",
      "1/1 [==============================] - 0s 298ms/step\n",
      "tf.Tensor([3.2158016e-05], shape=(1,), dtype=float32)\n",
      "1/1 [==============================] - 0s 404ms/step\n",
      "tf.Tensor([2.440776e-05], shape=(1,), dtype=float32)\n",
      "1/1 [==============================] - 0s 293ms/step\n",
      "tf.Tensor([1.3494047e-05], shape=(1,), dtype=float32)\n",
      "1/1 [==============================] - 0s 292ms/step\n",
      "tf.Tensor([1.0082383e-05], shape=(1,), dtype=float32)\n",
      "1/1 [==============================] - 0s 293ms/step\n",
      "tf.Tensor([2.0173631e-05], shape=(1,), dtype=float32)\n",
      "1/1 [==============================] - 0s 296ms/step\n",
      "tf.Tensor([1.4361425e-05], shape=(1,), dtype=float32)\n",
      "1/1 [==============================] - 0s 315ms/step\n",
      "tf.Tensor([1.5082756e-05], shape=(1,), dtype=float32)\n",
      "1/1 [==============================] - 0s 298ms/step\n",
      "tf.Tensor([1.0957295e-05], shape=(1,), dtype=float32)\n",
      "1/1 [==============================] - 0s 300ms/step\n",
      "tf.Tensor([9.564662e-06], shape=(1,), dtype=float32)\n",
      "1/1 [==============================] - 0s 305ms/step\n",
      "tf.Tensor([7.980546e-06], shape=(1,), dtype=float32)\n",
      "1/1 [==============================] - 0s 302ms/step\n",
      "tf.Tensor([1.1182916e-05], shape=(1,), dtype=float32)\n",
      "1/1 [==============================] - 0s 298ms/step\n",
      "tf.Tensor([8.35439e-06], shape=(1,), dtype=float32)\n",
      "1/1 [==============================] - 0s 297ms/step\n",
      "tf.Tensor([7.730842e-06], shape=(1,), dtype=float32)\n",
      "1/1 [==============================] - 0s 294ms/step\n",
      "tf.Tensor([8.15264e-06], shape=(1,), dtype=float32)\n",
      "1/1 [==============================] - 0s 300ms/step\n",
      "tf.Tensor([7.408533e-06], shape=(1,), dtype=float32)\n",
      "1/1 [==============================] - 0s 299ms/step\n",
      "tf.Tensor([9.933185e-06], shape=(1,), dtype=float32)\n",
      "1/1 [==============================] - 0s 293ms/step\n",
      "tf.Tensor([9.1996635e-06], shape=(1,), dtype=float32)\n",
      "1/1 [==============================] - 0s 296ms/step\n",
      "tf.Tensor([6.848892e-06], shape=(1,), dtype=float32)\n",
      "1/1 [==============================] - 0s 294ms/step\n",
      "tf.Tensor([6.709901e-06], shape=(1,), dtype=float32)\n",
      "1/1 [==============================] - 0s 295ms/step\n",
      "tf.Tensor([1.22545935e-05], shape=(1,), dtype=float32)\n",
      "1/1 [==============================] - 0s 292ms/step\n",
      "tf.Tensor([9.40179e-06], shape=(1,), dtype=float32)\n",
      "1/1 [==============================] - 0s 298ms/step\n",
      "tf.Tensor([6.3192306e-06], shape=(1,), dtype=float32)\n",
      "1/1 [==============================] - 0s 293ms/step\n",
      "tf.Tensor([6.330613e-06], shape=(1,), dtype=float32)\n",
      "1/1 [==============================] - 0s 332ms/step\n",
      "tf.Tensor([4.519724e-06], shape=(1,), dtype=float32)\n",
      "1/1 [==============================] - 0s 366ms/step\n",
      "tf.Tensor([7.6187603e-06], shape=(1,), dtype=float32)\n",
      "1/1 [==============================] - 0s 418ms/step\n",
      "tf.Tensor([8.2140805e-06], shape=(1,), dtype=float32)\n",
      "1/1 [==============================] - 0s 295ms/step\n",
      "tf.Tensor([5.312876e-06], shape=(1,), dtype=float32)\n",
      "1/1 [==============================] - 0s 295ms/step\n",
      "tf.Tensor([3.5670218e-06], shape=(1,), dtype=float32)\n",
      "1/1 [==============================] - 0s 288ms/step\n",
      "tf.Tensor([4.329987e-06], shape=(1,), dtype=float32)\n",
      "1/1 [==============================] - 0s 300ms/step\n",
      "tf.Tensor([4.046428e-06], shape=(1,), dtype=float32)\n",
      "1/1 [==============================] - 0s 294ms/step\n",
      "tf.Tensor([4.8662687e-06], shape=(1,), dtype=float32)\n",
      "1/1 [==============================] - 0s 290ms/step\n",
      "tf.Tensor([8.11122e-06], shape=(1,), dtype=float32)\n",
      "1/1 [==============================] - 0s 295ms/step\n",
      "tf.Tensor([3.3862111e-06], shape=(1,), dtype=float32)\n",
      "1/1 [==============================] - 0s 293ms/step\n",
      "tf.Tensor([4.51537e-06], shape=(1,), dtype=float32)\n",
      "1/1 [==============================] - 0s 294ms/step\n",
      "tf.Tensor([8.035425e-06], shape=(1,), dtype=float32)\n",
      "1/1 [==============================] - 0s 295ms/step\n",
      "tf.Tensor([3.5885319e-06], shape=(1,), dtype=float32)\n",
      "1/1 [==============================] - 0s 294ms/step\n",
      "tf.Tensor([3.643996e-06], shape=(1,), dtype=float32)\n",
      "1/1 [==============================] - 0s 304ms/step\n",
      "tf.Tensor([3.2073078e-06], shape=(1,), dtype=float32)\n",
      "1/1 [==============================] - 0s 298ms/step\n",
      "tf.Tensor([3.1015497e-06], shape=(1,), dtype=float32)\n",
      "1/1 [==============================] - 0s 291ms/step\n",
      "tf.Tensor([4.514723e-06], shape=(1,), dtype=float32)\n",
      "1/1 [==============================] - 0s 295ms/step\n",
      "tf.Tensor([5.592281e-06], shape=(1,), dtype=float32)\n",
      "1/1 [==============================] - 0s 290ms/step\n",
      "tf.Tensor([3.0093274e-06], shape=(1,), dtype=float32)\n",
      "1/1 [==============================] - 0s 295ms/step\n",
      "tf.Tensor([5.5828527e-06], shape=(1,), dtype=float32)\n",
      "1/1 [==============================] - 0s 294ms/step\n",
      "tf.Tensor([4.101457e-06], shape=(1,), dtype=float32)\n",
      "1/1 [==============================] - 0s 320ms/step\n",
      "tf.Tensor([3.817716e-06], shape=(1,), dtype=float32)\n",
      "1/1 [==============================] - 0s 296ms/step\n",
      "tf.Tensor([2.8616698e-06], shape=(1,), dtype=float32)\n"
     ]
    }
   ],
   "source": [
    "train(image_urls[:50],captions[:50])"
   ]
  }
 ],
 "metadata": {
  "kaggle": {
   "accelerator": "none",
   "dataSources": [
    {
     "datasetId": 623289,
     "sourceId": 1111676,
     "sourceType": "datasetVersion"
    }
   ],
   "dockerImageVersionId": 30635,
   "isGpuEnabled": false,
   "isInternetEnabled": true,
   "language": "python",
   "sourceType": "notebook"
  },
  "kernelspec": {
   "display_name": "Python 3",
   "language": "python",
   "name": "python3"
  },
  "language_info": {
   "codemirror_mode": {
    "name": "ipython",
    "version": 3
   },
   "file_extension": ".py",
   "mimetype": "text/x-python",
   "name": "python",
   "nbconvert_exporter": "python",
   "pygments_lexer": "ipython3",
   "version": "3.10.12"
  },
  "papermill": {
   "default_parameters": {},
   "duration": 52.30588,
   "end_time": "2024-01-19T11:02:36.963895",
   "environment_variables": {},
   "exception": null,
   "input_path": "__notebook__.ipynb",
   "output_path": "__notebook__.ipynb",
   "parameters": {},
   "start_time": "2024-01-19T11:01:44.658015",
   "version": "2.4.0"
  }
 },
 "nbformat": 4,
 "nbformat_minor": 5
}

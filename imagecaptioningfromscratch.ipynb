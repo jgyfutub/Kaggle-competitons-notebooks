{
 "cells": [
  {
   "cell_type": "code",
   "execution_count": 1,
   "id": "49daf739",
   "metadata": {
    "execution": {
     "iopub.execute_input": "2024-01-18T19:34:26.097025Z",
     "iopub.status.busy": "2024-01-18T19:34:26.095718Z",
     "iopub.status.idle": "2024-01-18T19:34:39.265483Z",
     "shell.execute_reply": "2024-01-18T19:34:39.264397Z"
    },
    "papermill": {
     "duration": 13.177077,
     "end_time": "2024-01-18T19:34:39.268366",
     "exception": false,
     "start_time": "2024-01-18T19:34:26.091289",
     "status": "completed"
    },
    "tags": []
   },
   "outputs": [],
   "source": [
    "import tensorflow as tf\n",
    "from tensorflow.keras.layers import Embedding\n",
    "from tensorflow.keras.preprocessing import image\n",
    "from tensorflow.keras.preprocessing.text import Tokenizer\n",
    "from tensorflow.keras.preprocessing.sequence import pad_sequences\n",
    "from tensorflow.keras.applications.vgg16 import VGG16, preprocess_input, decode_predictions\n",
    "import numpy as np"
   ]
  },
  {
   "cell_type": "code",
   "execution_count": 2,
   "id": "5b34ce5a",
   "metadata": {
    "_cell_guid": "b1076dfc-b9ad-4769-8c92-a6c4dae69d19",
    "_uuid": "8f2839f25d086af736a60e9eeb907d3b93b6e0e5",
    "execution": {
     "iopub.execute_input": "2024-01-18T19:34:39.275872Z",
     "iopub.status.busy": "2024-01-18T19:34:39.275198Z",
     "iopub.status.idle": "2024-01-18T19:34:39.353727Z",
     "shell.execute_reply": "2024-01-18T19:34:39.352963Z"
    },
    "papermill": {
     "duration": 0.084495,
     "end_time": "2024-01-18T19:34:39.355847",
     "exception": false,
     "start_time": "2024-01-18T19:34:39.271352",
     "status": "completed"
    },
    "tags": []
   },
   "outputs": [
    {
     "name": "stdout",
     "output_type": "stream",
     "text": [
      "40455 40455\n"
     ]
    }
   ],
   "source": [
    "file_path = '/kaggle/input/flickr8k/captions.txt'\n",
    "image_urls=[]\n",
    "captions=[]\n",
    "with open(file_path, 'r') as file:\n",
    "    for line in file:\n",
    "        image_urls.append(line.strip().split(\",\")[0])\n",
    "        captions.append(line.strip().split(\",\")[1])\n",
    "image_urls.pop(0)\n",
    "captions.pop(0)\n",
    "print(len(image_urls),len(captions))"
   ]
  },
  {
   "cell_type": "code",
   "execution_count": 3,
   "id": "400ef47b",
   "metadata": {
    "execution": {
     "iopub.execute_input": "2024-01-18T19:34:39.362977Z",
     "iopub.status.busy": "2024-01-18T19:34:39.362300Z",
     "iopub.status.idle": "2024-01-18T19:34:39.368366Z",
     "shell.execute_reply": "2024-01-18T19:34:39.367431Z"
    },
    "papermill": {
     "duration": 0.012136,
     "end_time": "2024-01-18T19:34:39.370679",
     "exception": false,
     "start_time": "2024-01-18T19:34:39.358543",
     "status": "completed"
    },
    "tags": []
   },
   "outputs": [],
   "source": [
    "tokenizer = Tokenizer()\n",
    "def Tokenize(sentence,tokenizer):\n",
    "    tokenizer.fit_on_texts([sentence])\n",
    "    sequence = tokenizer.texts_to_sequences([sentence])\n",
    "    sequence_length = 50  \n",
    "    padded_sequence = tf.keras.preprocessing.sequence.pad_sequences(sequence, maxlen=sequence_length)\n",
    "    return padded_sequence"
   ]
  },
  {
   "cell_type": "code",
   "execution_count": 4,
   "id": "8c60bae2",
   "metadata": {
    "execution": {
     "iopub.execute_input": "2024-01-18T19:34:39.377627Z",
     "iopub.status.busy": "2024-01-18T19:34:39.377233Z",
     "iopub.status.idle": "2024-01-18T19:34:58.781172Z",
     "shell.execute_reply": "2024-01-18T19:34:58.780150Z"
    },
    "papermill": {
     "duration": 19.410375,
     "end_time": "2024-01-18T19:34:58.783703",
     "exception": false,
     "start_time": "2024-01-18T19:34:39.373328",
     "status": "completed"
    },
    "tags": []
   },
   "outputs": [
    {
     "name": "stdout",
     "output_type": "stream",
     "text": [
      "Downloading data from https://storage.googleapis.com/tensorflow/keras-applications/vgg16/vgg16_weights_tf_dim_ordering_tf_kernels.h5\n",
      "553467096/553467096 [==============================] - 15s 0us/step\n"
     ]
    }
   ],
   "source": [
    "model = VGG16(weights='imagenet')\n",
    "def encoder(img,model):\n",
    "    img = image.load_img(\"/kaggle/input/flickr8k/Images/\"+img, target_size=(224, 224))\n",
    "    img_array = image.img_to_array(img)\n",
    "    img_array = np.expand_dims(img_array, axis=0)\n",
    "    img_array = preprocess_input(img_array)\n",
    "    image_features=model.predict(img_array)\n",
    "    return image_features"
   ]
  },
  {
   "cell_type": "code",
   "execution_count": 5,
   "id": "dff03ea7",
   "metadata": {
    "execution": {
     "iopub.execute_input": "2024-01-18T19:34:58.826652Z",
     "iopub.status.busy": "2024-01-18T19:34:58.826275Z",
     "iopub.status.idle": "2024-01-18T19:34:58.834908Z",
     "shell.execute_reply": "2024-01-18T19:34:58.833800Z"
    },
    "papermill": {
     "duration": 0.032163,
     "end_time": "2024-01-18T19:34:58.836936",
     "exception": false,
     "start_time": "2024-01-18T19:34:58.804773",
     "status": "completed"
    },
    "tags": []
   },
   "outputs": [],
   "source": [
    "def decoder(image_features,caption_embeddings):\n",
    "    v = tf.random.normal(shape=(1,1000))\n",
    "    Wh = tf.random.normal(shape=(1,1000))\n",
    "    Ws = tf.random.normal(shape=(1,1000))\n",
    "    battn = tf.random.normal(shape=(1,1000))\n",
    "    decoder_state=tf.zeros((1,1000))\n",
    "    LSTM_model = tf.keras.Sequential([ Embedding(input_dim=10000 ,output_dim=20, input_length=50),\n",
    "    tf.keras.layers.LSTM(64, input_shape=(1, 50,20)),\n",
    "    tf.keras.layers.Dense(1000)])\n",
    "    captions_features=LSTM_model(caption_embeddings)\n",
    "    e_t_i = v * tf.nn.tanh(Wh * image_features+ Ws*decoder_state+  battn)\n",
    "    attention_distributon=tf.nn.softmax(e_t_i)\n",
    "    context_vector=attention_distributon*image_features\n",
    "    combined=captions_features+attention_distributon\n",
    "    output = tf.keras.layers.Dense(1000, activation='softmax')(combined)\n",
    "    epsilon = 1e-15\n",
    "    y_pred = np.clip(output, epsilon, 1 - epsilon)\n",
    "    loss = -np.sum(captions_features* np.log(y_pred))\n",
    "    num_samples = len(captions_features)\n",
    "    loss /= num_samples\n",
    "    print(loss)\n",
    "    decoder_state=(decoder_state+context_vector)/2"
   ]
  },
  {
   "cell_type": "code",
   "execution_count": 6,
   "id": "fea1e2f4",
   "metadata": {
    "execution": {
     "iopub.execute_input": "2024-01-18T19:34:58.879075Z",
     "iopub.status.busy": "2024-01-18T19:34:58.878666Z",
     "iopub.status.idle": "2024-01-18T19:35:00.041647Z",
     "shell.execute_reply": "2024-01-18T19:35:00.040464Z"
    },
    "papermill": {
     "duration": 1.186889,
     "end_time": "2024-01-18T19:35:00.043977",
     "exception": false,
     "start_time": "2024-01-18T19:34:58.857088",
     "status": "completed"
    },
    "tags": []
   },
   "outputs": [
    {
     "name": "stdout",
     "output_type": "stream",
     "text": [
      "1/1 [==============================] - 1s 589ms/step\n",
      "0.4205624461174011\n"
     ]
    }
   ],
   "source": [
    "image_features=encoder(image_urls[0],model)\n",
    "tokens=Tokenize(captions[0],tokenizer)\n",
    "decoder(image_features,tokens)"
   ]
  }
 ],
 "metadata": {
  "kaggle": {
   "accelerator": "none",
   "dataSources": [
    {
     "datasetId": 623289,
     "sourceId": 1111676,
     "sourceType": "datasetVersion"
    }
   ],
   "dockerImageVersionId": 30635,
   "isGpuEnabled": false,
   "isInternetEnabled": true,
   "language": "python",
   "sourceType": "notebook"
  },
  "kernelspec": {
   "display_name": "Python 3",
   "language": "python",
   "name": "python3"
  },
  "language_info": {
   "codemirror_mode": {
    "name": "ipython",
    "version": 3
   },
   "file_extension": ".py",
   "mimetype": "text/x-python",
   "name": "python",
   "nbconvert_exporter": "python",
   "pygments_lexer": "ipython3",
   "version": "3.10.12"
  },
  "papermill": {
   "default_parameters": {},
   "duration": 39.333652,
   "end_time": "2024-01-18T19:35:02.407744",
   "environment_variables": {},
   "exception": null,
   "input_path": "__notebook__.ipynb",
   "output_path": "__notebook__.ipynb",
   "parameters": {},
   "start_time": "2024-01-18T19:34:23.074092",
   "version": "2.4.0"
  }
 },
 "nbformat": 4,
 "nbformat_minor": 5
}

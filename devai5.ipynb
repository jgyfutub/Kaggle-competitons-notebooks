{
 "cells": [
  {
   "cell_type": "code",
   "execution_count": 1,
   "id": "4e783b95",
   "metadata": {
    "_cell_guid": "b1076dfc-b9ad-4769-8c92-a6c4dae69d19",
    "_uuid": "8f2839f25d086af736a60e9eeb907d3b93b6e0e5",
    "execution": {
     "iopub.execute_input": "2023-10-11T10:26:27.371078Z",
     "iopub.status.busy": "2023-10-11T10:26:27.370490Z",
     "iopub.status.idle": "2023-10-11T10:31:11.103178Z",
     "shell.execute_reply": "2023-10-11T10:31:11.102134Z"
    },
    "papermill": {
     "duration": 283.73765,
     "end_time": "2023-10-11T10:31:11.105488",
     "exception": false,
     "start_time": "2023-10-11T10:26:27.367838",
     "status": "completed"
    },
    "tags": []
   },
   "outputs": [
    {
     "name": "stderr",
     "output_type": "stream",
     "text": [
      "/opt/conda/lib/python3.10/site-packages/scipy/__init__.py:146: UserWarning: A NumPy version >=1.16.5 and <1.23.0 is required for this version of SciPy (detected version 1.23.5\n",
      "  warnings.warn(f\"A NumPy version >={np_minversion} and <{np_maxversion}\"\n"
     ]
    },
    {
     "name": "stdout",
     "output_type": "stream",
     "text": [
      "40\n",
      "Downloading data from https://storage.googleapis.com/tensorflow/keras-applications/inception_v3/inception_v3_weights_tf_dim_ordering_tf_kernels_notop.h5\n",
      "87910968/87910968 [==============================] - 0s 0us/step\n",
      "Found 5945 images belonging to 40 classes.\n"
     ]
    },
    {
     "name": "stderr",
     "output_type": "stream",
     "text": [
      "/tmp/ipykernel_24/3693265868.py:25: UserWarning: `Model.fit_generator` is deprecated and will be removed in a future version. Please use `Model.fit`, which supports generators.\n",
      "  his=model.fit_generator(train_data,steps_per_epoch=20,epochs=10)\n",
      "/opt/conda/lib/python3.10/site-packages/keras/preprocessing/image.py:1861: UserWarning: This ImageDataGenerator specifies `featurewise_center`, but it hasn't been fit on any training data. Fit it first by calling `.fit(numpy_data)`.\n",
      "  warnings.warn(\n"
     ]
    },
    {
     "name": "stdout",
     "output_type": "stream",
     "text": [
      "Epoch 1/10\n",
      "20/20 [==============================] - 43s 1s/step - loss: 1.6111 - accuracy: 0.0523\n",
      "Epoch 2/10\n",
      "20/20 [==============================] - 23s 1s/step - loss: 0.5754 - accuracy: 0.2935\n",
      "Epoch 3/10\n",
      "20/20 [==============================] - 22s 1s/step - loss: 0.1803 - accuracy: 0.5590\n",
      "Epoch 4/10\n",
      "20/20 [==============================] - 22s 1s/step - loss: 0.1012 - accuracy: 0.7060\n",
      "Epoch 5/10\n",
      "20/20 [==============================] - 21s 1s/step - loss: 0.0797 - accuracy: 0.7550\n",
      "Epoch 6/10\n",
      "20/20 [==============================] - 21s 1s/step - loss: 0.0718 - accuracy: 0.7770\n",
      "Epoch 7/10\n",
      "20/20 [==============================] - 20s 987ms/step - loss: 0.0638 - accuracy: 0.8130\n",
      "Epoch 8/10\n",
      "20/20 [==============================] - 19s 944ms/step - loss: 0.0545 - accuracy: 0.8290\n",
      "Epoch 9/10\n",
      "20/20 [==============================] - 19s 957ms/step - loss: 0.0560 - accuracy: 0.8430\n",
      "Epoch 10/10\n",
      "20/20 [==============================] - 19s 934ms/step - loss: 0.0583 - accuracy: 0.8300\n"
     ]
    }
   ],
   "source": [
    "import cv2\n",
    "import tensorflow as tf\n",
    "from PIL import ImageFile\n",
    "import os\n",
    "import keras\n",
    "from keras.preprocessing.image import ImageDataGenerator\n",
    "from keras.models import Model\n",
    "from keras.layers import Dense,Flatten\n",
    "from keras.applications.inception_v3 import InceptionV3,preprocess_input\n",
    "plant_classes=len(os.listdir('/kaggle/input/indian-medicinal-leaves-dataset/Indian Medicinal Leaves Image Datasets/Medicinal plant dataset'))\n",
    "print(plant_classes)\n",
    "base_model=InceptionV3(input_shape=(256,256,3),include_top=False)\n",
    "for layer in base_model.layers:\n",
    "    layer.trainable=False\n",
    "#flatten layers converts a 2d array of image into a 1d array\n",
    "x=Flatten()(base_model.output)\n",
    "#the output function \n",
    "x=Dense(units=40,activation='sigmoid')(x)\n",
    "model=Model(base_model.input,x)\n",
    "model.compile(optimizer='adam',loss=keras.losses.binary_crossentropy,metrics=['accuracy'])\n",
    "# print(model.summary())\n",
    "train_datagen=ImageDataGenerator(featurewise_center=True,rotation_range=0.05,width_shift_range=0.05,horizontal_flip=True,preprocessing_function=preprocess_input,zoom_range=0.1,shear_range=0.1)\n",
    "train_data=train_datagen.flow_from_directory(directory='/kaggle/input/indian-medicinal-leaves-dataset/Indian Medicinal Leaves Image Datasets/Medicinal plant dataset',target_size=(256,256),batch_size=50)\n",
    "ImageFile.LOAD_TRUNCATED_IMAGES = True\n",
    "his=model.fit_generator(train_data,steps_per_epoch=20,epochs=10)"
   ]
  },
  {
   "cell_type": "code",
   "execution_count": 2,
   "id": "30724de9",
   "metadata": {
    "execution": {
     "iopub.execute_input": "2023-10-11T10:31:11.129727Z",
     "iopub.status.busy": "2023-10-11T10:31:11.129294Z",
     "iopub.status.idle": "2023-10-11T10:31:11.754771Z",
     "shell.execute_reply": "2023-10-11T10:31:11.753693Z"
    },
    "papermill": {
     "duration": 0.639652,
     "end_time": "2023-10-11T10:31:11.757134",
     "exception": false,
     "start_time": "2023-10-11T10:31:11.117482",
     "status": "completed"
    },
    "tags": []
   },
   "outputs": [],
   "source": [
    "model.save('/kaggle/working/modelplant.h5')"
   ]
  }
 ],
 "metadata": {
  "kernelspec": {
   "display_name": "Python 3",
   "language": "python",
   "name": "python3"
  },
  "language_info": {
   "codemirror_mode": {
    "name": "ipython",
    "version": 3
   },
   "file_extension": ".py",
   "mimetype": "text/x-python",
   "name": "python",
   "nbconvert_exporter": "python",
   "pygments_lexer": "ipython3",
   "version": "3.10.12"
  },
  "papermill": {
   "default_parameters": {},
   "duration": 292.70121,
   "end_time": "2023-10-11T10:31:15.459046",
   "environment_variables": {},
   "exception": null,
   "input_path": "__notebook__.ipynb",
   "output_path": "__notebook__.ipynb",
   "parameters": {},
   "start_time": "2023-10-11T10:26:22.757836",
   "version": "2.4.0"
  }
 },
 "nbformat": 4,
 "nbformat_minor": 5
}

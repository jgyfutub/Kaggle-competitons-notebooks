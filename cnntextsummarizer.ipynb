{
 "cells": [
  {
   "cell_type": "code",
   "execution_count": 1,
   "id": "e01c1a2e",
   "metadata": {
    "execution": {
     "iopub.execute_input": "2024-01-05T17:49:52.017267Z",
     "iopub.status.busy": "2024-01-05T17:49:52.016485Z",
     "iopub.status.idle": "2024-01-05T17:50:21.083659Z",
     "shell.execute_reply": "2024-01-05T17:50:21.082742Z"
    },
    "papermill": {
     "duration": 29.074481,
     "end_time": "2024-01-05T17:50:21.085837",
     "exception": false,
     "start_time": "2024-01-05T17:49:52.011356",
     "status": "completed"
    },
    "tags": []
   },
   "outputs": [
    {
     "data": {
      "text/html": [
       "<div>\n",
       "<style scoped>\n",
       "    .dataframe tbody tr th:only-of-type {\n",
       "        vertical-align: middle;\n",
       "    }\n",
       "\n",
       "    .dataframe tbody tr th {\n",
       "        vertical-align: top;\n",
       "    }\n",
       "\n",
       "    .dataframe thead th {\n",
       "        text-align: right;\n",
       "    }\n",
       "</style>\n",
       "<table border=\"1\" class=\"dataframe\">\n",
       "  <thead>\n",
       "    <tr style=\"text-align: right;\">\n",
       "      <th></th>\n",
       "      <th>id</th>\n",
       "      <th>article</th>\n",
       "      <th>highlights</th>\n",
       "    </tr>\n",
       "  </thead>\n",
       "  <tbody>\n",
       "    <tr>\n",
       "      <th>0</th>\n",
       "      <td>0001d1afc246a7964130f43ae940af6bc6c57f01</td>\n",
       "      <td>By . Associated Press . PUBLISHED: . 14:11 EST...</td>\n",
       "      <td>Bishop John Folda, of North Dakota, is taking ...</td>\n",
       "    </tr>\n",
       "    <tr>\n",
       "      <th>1</th>\n",
       "      <td>0002095e55fcbd3a2f366d9bf92a95433dc305ef</td>\n",
       "      <td>(CNN) -- Ralph Mata was an internal affairs li...</td>\n",
       "      <td>Criminal complaint: Cop used his role to help ...</td>\n",
       "    </tr>\n",
       "    <tr>\n",
       "      <th>2</th>\n",
       "      <td>00027e965c8264c35cc1bc55556db388da82b07f</td>\n",
       "      <td>A drunk driver who killed a young woman in a h...</td>\n",
       "      <td>Craig Eccleston-Todd, 27, had drunk at least t...</td>\n",
       "    </tr>\n",
       "    <tr>\n",
       "      <th>3</th>\n",
       "      <td>0002c17436637c4fe1837c935c04de47adb18e9a</td>\n",
       "      <td>(CNN) -- With a breezy sweep of his pen Presid...</td>\n",
       "      <td>Nina dos Santos says Europe must be ready to a...</td>\n",
       "    </tr>\n",
       "    <tr>\n",
       "      <th>4</th>\n",
       "      <td>0003ad6ef0c37534f80b55b4235108024b407f0b</td>\n",
       "      <td>Fleetwood are the only team still to have a 10...</td>\n",
       "      <td>Fleetwood top of League One after 2-0 win at S...</td>\n",
       "    </tr>\n",
       "    <tr>\n",
       "      <th>...</th>\n",
       "      <td>...</td>\n",
       "      <td>...</td>\n",
       "      <td>...</td>\n",
       "    </tr>\n",
       "    <tr>\n",
       "      <th>287108</th>\n",
       "      <td>fffdfb56fdf1a12d364562cc2b9b1d4de7481dee</td>\n",
       "      <td>By . James Rush . Former first daughter Chelse...</td>\n",
       "      <td>Chelsea Clinton said question of running for o...</td>\n",
       "    </tr>\n",
       "    <tr>\n",
       "      <th>287109</th>\n",
       "      <td>fffeecb8690b85de8c3faed80adbc7a978f9ae2a</td>\n",
       "      <td>An apologetic Vanilla Ice has given his first ...</td>\n",
       "      <td>Vanilla Ice, 47 - real name Robert Van Winkle ...</td>\n",
       "    </tr>\n",
       "    <tr>\n",
       "      <th>287110</th>\n",
       "      <td>ffff5231e4c71544bc6c97015cdb16c60e42b3f4</td>\n",
       "      <td>America's most lethal sniper claimed he wished...</td>\n",
       "      <td>America's most lethal sniper made comment in i...</td>\n",
       "    </tr>\n",
       "    <tr>\n",
       "      <th>287111</th>\n",
       "      <td>ffff924b14a8d82058b6c1c5368ff1113c1632af</td>\n",
       "      <td>By . Sara Malm . PUBLISHED: . 12:19 EST, 8 Mar...</td>\n",
       "      <td>A swarm of more than one million has crossed b...</td>\n",
       "    </tr>\n",
       "    <tr>\n",
       "      <th>287112</th>\n",
       "      <td>ffffd563a96104f5cf4493cfa701a65f31b06abf</td>\n",
       "      <td>(CNN)Former Florida Gov. Jeb Bush has decided ...</td>\n",
       "      <td>Other 2016 hopefuls maintain that Bush's annou...</td>\n",
       "    </tr>\n",
       "  </tbody>\n",
       "</table>\n",
       "<p>287113 rows × 3 columns</p>\n",
       "</div>"
      ],
      "text/plain": [
       "                                              id  \\\n",
       "0       0001d1afc246a7964130f43ae940af6bc6c57f01   \n",
       "1       0002095e55fcbd3a2f366d9bf92a95433dc305ef   \n",
       "2       00027e965c8264c35cc1bc55556db388da82b07f   \n",
       "3       0002c17436637c4fe1837c935c04de47adb18e9a   \n",
       "4       0003ad6ef0c37534f80b55b4235108024b407f0b   \n",
       "...                                          ...   \n",
       "287108  fffdfb56fdf1a12d364562cc2b9b1d4de7481dee   \n",
       "287109  fffeecb8690b85de8c3faed80adbc7a978f9ae2a   \n",
       "287110  ffff5231e4c71544bc6c97015cdb16c60e42b3f4   \n",
       "287111  ffff924b14a8d82058b6c1c5368ff1113c1632af   \n",
       "287112  ffffd563a96104f5cf4493cfa701a65f31b06abf   \n",
       "\n",
       "                                                  article  \\\n",
       "0       By . Associated Press . PUBLISHED: . 14:11 EST...   \n",
       "1       (CNN) -- Ralph Mata was an internal affairs li...   \n",
       "2       A drunk driver who killed a young woman in a h...   \n",
       "3       (CNN) -- With a breezy sweep of his pen Presid...   \n",
       "4       Fleetwood are the only team still to have a 10...   \n",
       "...                                                   ...   \n",
       "287108  By . James Rush . Former first daughter Chelse...   \n",
       "287109  An apologetic Vanilla Ice has given his first ...   \n",
       "287110  America's most lethal sniper claimed he wished...   \n",
       "287111  By . Sara Malm . PUBLISHED: . 12:19 EST, 8 Mar...   \n",
       "287112  (CNN)Former Florida Gov. Jeb Bush has decided ...   \n",
       "\n",
       "                                               highlights  \n",
       "0       Bishop John Folda, of North Dakota, is taking ...  \n",
       "1       Criminal complaint: Cop used his role to help ...  \n",
       "2       Craig Eccleston-Todd, 27, had drunk at least t...  \n",
       "3       Nina dos Santos says Europe must be ready to a...  \n",
       "4       Fleetwood top of League One after 2-0 win at S...  \n",
       "...                                                   ...  \n",
       "287108  Chelsea Clinton said question of running for o...  \n",
       "287109  Vanilla Ice, 47 - real name Robert Van Winkle ...  \n",
       "287110  America's most lethal sniper made comment in i...  \n",
       "287111  A swarm of more than one million has crossed b...  \n",
       "287112  Other 2016 hopefuls maintain that Bush's annou...  \n",
       "\n",
       "[287113 rows x 3 columns]"
      ]
     },
     "execution_count": 1,
     "metadata": {},
     "output_type": "execute_result"
    }
   ],
   "source": [
    "import pandas as pd\n",
    "import numpy as np\n",
    "train=pd.read_csv(\"/kaggle/input/newspaper-text-summarization-cnn-dailymail/cnn_dailymail/train.csv\")\n",
    "train"
   ]
  },
  {
   "cell_type": "code",
   "execution_count": 2,
   "id": "77008090",
   "metadata": {
    "execution": {
     "iopub.execute_input": "2024-01-05T17:50:21.094020Z",
     "iopub.status.busy": "2024-01-05T17:50:21.093301Z",
     "iopub.status.idle": "2024-01-05T17:50:21.216183Z",
     "shell.execute_reply": "2024-01-05T17:50:21.215235Z"
    },
    "papermill": {
     "duration": 0.128827,
     "end_time": "2024-01-05T17:50:21.218156",
     "exception": false,
     "start_time": "2024-01-05T17:50:21.089329",
     "status": "completed"
    },
    "tags": []
   },
   "outputs": [
    {
     "data": {
      "text/plain": [
       "id            0\n",
       "article       0\n",
       "highlights    0\n",
       "dtype: int64"
      ]
     },
     "execution_count": 2,
     "metadata": {},
     "output_type": "execute_result"
    }
   ],
   "source": [
    "train.isnull().sum()"
   ]
  },
  {
   "cell_type": "code",
   "execution_count": 3,
   "id": "7474d83c",
   "metadata": {
    "execution": {
     "iopub.execute_input": "2024-01-05T17:50:21.226402Z",
     "iopub.status.busy": "2024-01-05T17:50:21.226065Z",
     "iopub.status.idle": "2024-01-05T17:50:32.759878Z",
     "shell.execute_reply": "2024-01-05T17:50:32.759008Z"
    },
    "papermill": {
     "duration": 11.540731,
     "end_time": "2024-01-05T17:50:32.762295",
     "exception": false,
     "start_time": "2024-01-05T17:50:21.221564",
     "status": "completed"
    },
    "tags": []
   },
   "outputs": [
    {
     "name": "stderr",
     "output_type": "stream",
     "text": [
      "/opt/conda/lib/python3.10/site-packages/scipy/__init__.py:146: UserWarning: A NumPy version >=1.16.5 and <1.23.0 is required for this version of SciPy (detected version 1.24.3\n",
      "  warnings.warn(f\"A NumPy version >={np_minversion} and <{np_maxversion}\"\n"
     ]
    }
   ],
   "source": [
    "import tensorflow as tf\n",
    "tokenizer=tf.keras.preprocessing.text.Tokenizer()\n",
    "# random_sentence=\"12th Fail: Did you know IPS officer Manoj Kumar Sharma, IRS officer Shraddha Joshi had cameos in Vikrant Massey film?\"\n",
    "def tokenizenews(random_sentence):\n",
    "    tokenizer=tf.keras.preprocessing.text.Tokenizer()\n",
    "    tokenizer.fit_on_texts([random_sentence])\n",
    "    sequence = tokenizer.texts_to_sequences([random_sentence])\n",
    "    sequence_length = 50  # Adjust as needed\n",
    "    padded_sequence = tf.keras.preprocessing.sequence.pad_sequences(sequence, maxlen=sequence_length)\n",
    "    return padded_sequence\n",
    "# train['article']=train['article'].apply(tokenizenews)\n",
    "# train['highlights']=train['highlights'].apply(tokenizenews)"
   ]
  },
  {
   "cell_type": "code",
   "execution_count": 4,
   "id": "6aa5056c",
   "metadata": {
    "execution": {
     "iopub.execute_input": "2024-01-05T17:50:32.771685Z",
     "iopub.status.busy": "2024-01-05T17:50:32.770760Z",
     "iopub.status.idle": "2024-01-05T17:50:32.779628Z",
     "shell.execute_reply": "2024-01-05T17:50:32.778902Z"
    },
    "papermill": {
     "duration": 0.015296,
     "end_time": "2024-01-05T17:50:32.781565",
     "exception": false,
     "start_time": "2024-01-05T17:50:32.766269",
     "status": "completed"
    },
    "tags": []
   },
   "outputs": [],
   "source": [
    "from tensorflow.keras.models import Model\n",
    "def encoder(array):\n",
    "    vocab_size = 10000\n",
    "    embedding_dim = 200\n",
    "    encoder_hidden_states=[]\n",
    "    sequence_length = 50\n",
    "    input_sequence = tf.keras.Input(shape=(sequence_length, ))\n",
    "    embedding_layer = tf.keras.layers.Embedding(input_dim=vocab_size, output_dim=embedding_dim)(input_sequence)\n",
    "    encoder_lstm = tf.keras.layers.Bidirectional(tf.keras.layers.LSTM(1600 , return_sequences=True))(embedding_layer)\n",
    "    encoded_representation = tf.keras.layers.Concatenate()([encoder_lstm[:, -1, :], encoder_lstm[:, 0, :]])\n",
    "    model = tf.keras.Model(inputs=input_sequence, outputs=encoded_representation )\n",
    "    for random_sentence in array:\n",
    "        result = model.predict(random_sentence)\n",
    "        print(result.shape)\n",
    "        encoder_hidden_states.append(result)\n",
    "    return encoder_hidden_states"
   ]
  },
  {
   "cell_type": "code",
   "execution_count": 5,
   "id": "87f4169b",
   "metadata": {
    "execution": {
     "iopub.execute_input": "2024-01-05T17:50:32.789792Z",
     "iopub.status.busy": "2024-01-05T17:50:32.789155Z",
     "iopub.status.idle": "2024-01-05T17:50:32.804448Z",
     "shell.execute_reply": "2024-01-05T17:50:32.803548Z"
    },
    "papermill": {
     "duration": 0.021331,
     "end_time": "2024-01-05T17:50:32.806290",
     "exception": false,
     "start_time": "2024-01-05T17:50:32.784959",
     "status": "completed"
    },
    "tags": []
   },
   "outputs": [],
   "source": [
    "@tf.custom_gradient\n",
    "def decoder(encoder_hidden_states,target_tokens,model1):\n",
    "    loss = 0\n",
    "    context_vector = None\n",
    "    decoder_state = None\n",
    "    sequence_length = 50\n",
    "    hidden_size = 128\n",
    "    embedding_dim = 128\n",
    "    vocab_size = 10000\n",
    "    context_vector=tf.zeros((128,50 ))\n",
    "    decoder_state=tf.zeros((128, 50))\n",
    "#     optimizer = tf.keras.optimizers.Adam(learning_rate=0.01)\n",
    "    v = tf.Variable(tf.random.normal(shape=(hidden_size,50)), trainable=True, name='v')\n",
    "    Wh = tf.Variable(tf.random.normal(shape=(hidden_size, hidden_size)), trainable=True, name='Wh')\n",
    "    Ws = tf.Variable(tf.random.normal(shape=(hidden_size, embedding_dim)), trainable=True, name='Ws')\n",
    "    battn = tf.Variable(tf.zeros(shape=(hidden_size,50)), trainable=True, name='battn')\n",
    "    for t in range(len(target_tokens)):\n",
    "        input_sequence = tf.keras.Input(shape=(sequence_length, ))\n",
    "        embedding_layer = tf.keras.layers.Embedding(input_dim=vocab_size, output_dim=embedding_dim)(input_sequence)\n",
    "        model = tf.keras.Model(inputs=input_sequence, outputs=embedding_layer)\n",
    "        output_embeddings = model.predict(target_tokens[t])\n",
    "        attention_scores = []\n",
    "        with tf.GradientTape() as tape:\n",
    "            for i in range(len(encoder_hidden_states)):\n",
    "                encoder_hidden_states[i] = tf.reshape(encoder_hidden_states[i], (128,50)) \n",
    "                e_t_i = v * tf.nn.tanh(tf.matmul(Wh , encoder_hidden_states[i])  + battn)\n",
    "                attention_scores.append(e_t_i)\n",
    "            attention_distributon=tf.nn.softmax(attention_scores)\n",
    "            for i in range(len(encoder_hidden_states)):\n",
    "                context_vector += attention_distributon[i] * encoder_hidden_states[i]\n",
    "            output_embeddings=tf.reshape(output_embeddings, (128, 50, 1))\n",
    "            output_embeddings=tf.squeeze(output_embeddings, axis=-1)\n",
    "            concatenated_input = tf.expand_dims(tf.concat([context_vector,output_embeddings], axis=-1),axis=0)\n",
    "#             input_sequence1 = tf.keras.Input(shape=(128, 100))\n",
    "            concatenated_input=tf.stop_gradient(concatenated_input)\n",
    "            output_embeddings1 = model1.predict(concatenated_input)\n",
    "            vocab_distribution=tf.nn.softmax(output_embeddings1,axis=1)\n",
    "            highest_prob_index=np.argmax(vocab_distribution)\n",
    "            target_word_prob = vocab_distribution[0,highest_prob_index,0]\n",
    "            timestep_loss = -tf.math.log(target_word_prob)\n",
    "            decoder_state=tf.concat([decoder_state,context_vector], axis=-1)\n",
    "            loss += timestep_loss\n",
    "        all_variables = model1.trainable_variables + [v,Wh,Ws,battn]\n",
    "        gradients=tape(loss/t,all_variables)\n",
    "        optimizer = tf.keras.optimizers.Adam(learning_rate=0.01)\n",
    "        optimizer.apply_gradients(zip(gradients, all_variables))\n",
    "        print(loss)"
   ]
  },
  {
   "cell_type": "code",
   "execution_count": 6,
   "id": "b8757dc2",
   "metadata": {
    "execution": {
     "iopub.execute_input": "2024-01-05T17:50:32.814089Z",
     "iopub.status.busy": "2024-01-05T17:50:32.813808Z",
     "iopub.status.idle": "2024-01-05T17:50:42.691171Z",
     "shell.execute_reply": "2024-01-05T17:50:42.690276Z"
    },
    "papermill": {
     "duration": 9.88354,
     "end_time": "2024-01-05T17:50:42.693184",
     "exception": false,
     "start_time": "2024-01-05T17:50:32.809644",
     "status": "completed"
    },
    "tags": []
   },
   "outputs": [
    {
     "name": "stdout",
     "output_type": "stream",
     "text": [
      "1/1 [==============================] - 1s 981ms/step\n",
      "(1, 6400)\n"
     ]
    }
   ],
   "source": [
    "encoder_hidden=encoder([tokenizenews(\"Are you a curious mind, wanting to harness the latest developments in AI to transform the world? Or do you have the ability to invent for the future? EnCode is ready to provide you with a fantastic chance! UDGAM 2024, IIT Guwahati proudly presents the third edition of its flagship AI Hackathon: EnCode, presented by DevRev to inspire and support innovators!\")])\n",
    "summarize=\"EnCode, the flagship AI Hackathon presented by DevRev, is inviting curious minds and innovative individuals to participate in UDGAM 2024 at IIT Guwahati. This event offers a fantastic opportunity for those eager to harness the latest developments in AI and contribute to transforming the world. Whether you have a keen interest in AI or possess the ability to invent for the future, EnCode is ready to inspire and support you in this third edition of the hackathon.\"\n",
    "target_tokens=[tokenizenews(summarize)]\n",
    "input_sequence1 = tf.keras.Input(shape=(128, 100))\n",
    "layer1=tf.keras.layers.Dense(128)(input_sequence1)\n",
    "layer2=tf.keras.layers.Dense(1)(layer1)\n",
    "model1 = tf.keras.Model(inputs=input_sequence1, outputs=layer2)\n",
    "# decoder(encoder_hidden,target_tokens,model1)"
   ]
  },
  {
   "cell_type": "code",
   "execution_count": null,
   "id": "307bb08d",
   "metadata": {
    "papermill": {
     "duration": 0.003412,
     "end_time": "2024-01-05T17:50:42.700294",
     "exception": false,
     "start_time": "2024-01-05T17:50:42.696882",
     "status": "completed"
    },
    "tags": []
   },
   "outputs": [],
   "source": []
  }
 ],
 "metadata": {
  "kaggle": {
   "accelerator": "gpu",
   "dataSources": [
    {
     "datasetId": 1654566,
     "sourceId": 2734496,
     "sourceType": "datasetVersion"
    }
   ],
   "dockerImageVersionId": 30626,
   "isGpuEnabled": true,
   "isInternetEnabled": true,
   "language": "python",
   "sourceType": "notebook"
  },
  "kernelspec": {
   "display_name": "Python 3",
   "language": "python",
   "name": "python3"
  },
  "language_info": {
   "codemirror_mode": {
    "name": "ipython",
    "version": 3
   },
   "file_extension": ".py",
   "mimetype": "text/x-python",
   "name": "python",
   "nbconvert_exporter": "python",
   "pygments_lexer": "ipython3",
   "version": "3.10.12"
  },
  "papermill": {
   "default_parameters": {},
   "duration": 57.646233,
   "end_time": "2024-01-05T17:50:46.126010",
   "environment_variables": {},
   "exception": null,
   "input_path": "__notebook__.ipynb",
   "output_path": "__notebook__.ipynb",
   "parameters": {},
   "start_time": "2024-01-05T17:49:48.479777",
   "version": "2.4.0"
  }
 },
 "nbformat": 4,
 "nbformat_minor": 5
}

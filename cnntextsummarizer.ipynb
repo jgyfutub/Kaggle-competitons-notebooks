{
 "cells": [
  {
   "cell_type": "code",
   "execution_count": 1,
   "id": "3ed733dc",
   "metadata": {
    "execution": {
     "iopub.execute_input": "2024-01-11T14:47:34.258201Z",
     "iopub.status.busy": "2024-01-11T14:47:34.257887Z",
     "iopub.status.idle": "2024-01-11T14:48:06.426153Z",
     "shell.execute_reply": "2024-01-11T14:48:06.425191Z"
    },
    "papermill": {
     "duration": 32.178459,
     "end_time": "2024-01-11T14:48:06.431620",
     "exception": false,
     "start_time": "2024-01-11T14:47:34.253161",
     "status": "completed"
    },
    "tags": []
   },
   "outputs": [
    {
     "data": {
      "text/html": [
       "<div>\n",
       "<style scoped>\n",
       "    .dataframe tbody tr th:only-of-type {\n",
       "        vertical-align: middle;\n",
       "    }\n",
       "\n",
       "    .dataframe tbody tr th {\n",
       "        vertical-align: top;\n",
       "    }\n",
       "\n",
       "    .dataframe thead th {\n",
       "        text-align: right;\n",
       "    }\n",
       "</style>\n",
       "<table border=\"1\" class=\"dataframe\">\n",
       "  <thead>\n",
       "    <tr style=\"text-align: right;\">\n",
       "      <th></th>\n",
       "      <th>id</th>\n",
       "      <th>article</th>\n",
       "      <th>highlights</th>\n",
       "    </tr>\n",
       "  </thead>\n",
       "  <tbody>\n",
       "    <tr>\n",
       "      <th>0</th>\n",
       "      <td>0001d1afc246a7964130f43ae940af6bc6c57f01</td>\n",
       "      <td>By . Associated Press . PUBLISHED: . 14:11 EST...</td>\n",
       "      <td>Bishop John Folda, of North Dakota, is taking ...</td>\n",
       "    </tr>\n",
       "    <tr>\n",
       "      <th>1</th>\n",
       "      <td>0002095e55fcbd3a2f366d9bf92a95433dc305ef</td>\n",
       "      <td>(CNN) -- Ralph Mata was an internal affairs li...</td>\n",
       "      <td>Criminal complaint: Cop used his role to help ...</td>\n",
       "    </tr>\n",
       "    <tr>\n",
       "      <th>2</th>\n",
       "      <td>00027e965c8264c35cc1bc55556db388da82b07f</td>\n",
       "      <td>A drunk driver who killed a young woman in a h...</td>\n",
       "      <td>Craig Eccleston-Todd, 27, had drunk at least t...</td>\n",
       "    </tr>\n",
       "    <tr>\n",
       "      <th>3</th>\n",
       "      <td>0002c17436637c4fe1837c935c04de47adb18e9a</td>\n",
       "      <td>(CNN) -- With a breezy sweep of his pen Presid...</td>\n",
       "      <td>Nina dos Santos says Europe must be ready to a...</td>\n",
       "    </tr>\n",
       "    <tr>\n",
       "      <th>4</th>\n",
       "      <td>0003ad6ef0c37534f80b55b4235108024b407f0b</td>\n",
       "      <td>Fleetwood are the only team still to have a 10...</td>\n",
       "      <td>Fleetwood top of League One after 2-0 win at S...</td>\n",
       "    </tr>\n",
       "    <tr>\n",
       "      <th>...</th>\n",
       "      <td>...</td>\n",
       "      <td>...</td>\n",
       "      <td>...</td>\n",
       "    </tr>\n",
       "    <tr>\n",
       "      <th>287108</th>\n",
       "      <td>fffdfb56fdf1a12d364562cc2b9b1d4de7481dee</td>\n",
       "      <td>By . James Rush . Former first daughter Chelse...</td>\n",
       "      <td>Chelsea Clinton said question of running for o...</td>\n",
       "    </tr>\n",
       "    <tr>\n",
       "      <th>287109</th>\n",
       "      <td>fffeecb8690b85de8c3faed80adbc7a978f9ae2a</td>\n",
       "      <td>An apologetic Vanilla Ice has given his first ...</td>\n",
       "      <td>Vanilla Ice, 47 - real name Robert Van Winkle ...</td>\n",
       "    </tr>\n",
       "    <tr>\n",
       "      <th>287110</th>\n",
       "      <td>ffff5231e4c71544bc6c97015cdb16c60e42b3f4</td>\n",
       "      <td>America's most lethal sniper claimed he wished...</td>\n",
       "      <td>America's most lethal sniper made comment in i...</td>\n",
       "    </tr>\n",
       "    <tr>\n",
       "      <th>287111</th>\n",
       "      <td>ffff924b14a8d82058b6c1c5368ff1113c1632af</td>\n",
       "      <td>By . Sara Malm . PUBLISHED: . 12:19 EST, 8 Mar...</td>\n",
       "      <td>A swarm of more than one million has crossed b...</td>\n",
       "    </tr>\n",
       "    <tr>\n",
       "      <th>287112</th>\n",
       "      <td>ffffd563a96104f5cf4493cfa701a65f31b06abf</td>\n",
       "      <td>(CNN)Former Florida Gov. Jeb Bush has decided ...</td>\n",
       "      <td>Other 2016 hopefuls maintain that Bush's annou...</td>\n",
       "    </tr>\n",
       "  </tbody>\n",
       "</table>\n",
       "<p>287113 rows × 3 columns</p>\n",
       "</div>"
      ],
      "text/plain": [
       "                                              id  \\\n",
       "0       0001d1afc246a7964130f43ae940af6bc6c57f01   \n",
       "1       0002095e55fcbd3a2f366d9bf92a95433dc305ef   \n",
       "2       00027e965c8264c35cc1bc55556db388da82b07f   \n",
       "3       0002c17436637c4fe1837c935c04de47adb18e9a   \n",
       "4       0003ad6ef0c37534f80b55b4235108024b407f0b   \n",
       "...                                          ...   \n",
       "287108  fffdfb56fdf1a12d364562cc2b9b1d4de7481dee   \n",
       "287109  fffeecb8690b85de8c3faed80adbc7a978f9ae2a   \n",
       "287110  ffff5231e4c71544bc6c97015cdb16c60e42b3f4   \n",
       "287111  ffff924b14a8d82058b6c1c5368ff1113c1632af   \n",
       "287112  ffffd563a96104f5cf4493cfa701a65f31b06abf   \n",
       "\n",
       "                                                  article  \\\n",
       "0       By . Associated Press . PUBLISHED: . 14:11 EST...   \n",
       "1       (CNN) -- Ralph Mata was an internal affairs li...   \n",
       "2       A drunk driver who killed a young woman in a h...   \n",
       "3       (CNN) -- With a breezy sweep of his pen Presid...   \n",
       "4       Fleetwood are the only team still to have a 10...   \n",
       "...                                                   ...   \n",
       "287108  By . James Rush . Former first daughter Chelse...   \n",
       "287109  An apologetic Vanilla Ice has given his first ...   \n",
       "287110  America's most lethal sniper claimed he wished...   \n",
       "287111  By . Sara Malm . PUBLISHED: . 12:19 EST, 8 Mar...   \n",
       "287112  (CNN)Former Florida Gov. Jeb Bush has decided ...   \n",
       "\n",
       "                                               highlights  \n",
       "0       Bishop John Folda, of North Dakota, is taking ...  \n",
       "1       Criminal complaint: Cop used his role to help ...  \n",
       "2       Craig Eccleston-Todd, 27, had drunk at least t...  \n",
       "3       Nina dos Santos says Europe must be ready to a...  \n",
       "4       Fleetwood top of League One after 2-0 win at S...  \n",
       "...                                                   ...  \n",
       "287108  Chelsea Clinton said question of running for o...  \n",
       "287109  Vanilla Ice, 47 - real name Robert Van Winkle ...  \n",
       "287110  America's most lethal sniper made comment in i...  \n",
       "287111  A swarm of more than one million has crossed b...  \n",
       "287112  Other 2016 hopefuls maintain that Bush's annou...  \n",
       "\n",
       "[287113 rows x 3 columns]"
      ]
     },
     "execution_count": 1,
     "metadata": {},
     "output_type": "execute_result"
    }
   ],
   "source": [
    "import pandas as pd\n",
    "import numpy as np\n",
    "train=pd.read_csv(\"/kaggle/input/newspaper-text-summarization-cnn-dailymail/cnn_dailymail/train.csv\")\n",
    "train"
   ]
  },
  {
   "cell_type": "code",
   "execution_count": 2,
   "id": "5fa4acb8",
   "metadata": {
    "execution": {
     "iopub.execute_input": "2024-01-11T14:48:06.439939Z",
     "iopub.status.busy": "2024-01-11T14:48:06.439640Z",
     "iopub.status.idle": "2024-01-11T14:48:06.564920Z",
     "shell.execute_reply": "2024-01-11T14:48:06.564020Z"
    },
    "papermill": {
     "duration": 0.131793,
     "end_time": "2024-01-11T14:48:06.567068",
     "exception": false,
     "start_time": "2024-01-11T14:48:06.435275",
     "status": "completed"
    },
    "tags": []
   },
   "outputs": [
    {
     "data": {
      "text/plain": [
       "id            0\n",
       "article       0\n",
       "highlights    0\n",
       "dtype: int64"
      ]
     },
     "execution_count": 2,
     "metadata": {},
     "output_type": "execute_result"
    }
   ],
   "source": [
    "train.isnull().sum()"
   ]
  },
  {
   "cell_type": "code",
   "execution_count": 3,
   "id": "7e3c8091",
   "metadata": {
    "execution": {
     "iopub.execute_input": "2024-01-11T14:48:06.575486Z",
     "iopub.status.busy": "2024-01-11T14:48:06.575206Z",
     "iopub.status.idle": "2024-01-11T14:48:06.579769Z",
     "shell.execute_reply": "2024-01-11T14:48:06.578913Z"
    },
    "papermill": {
     "duration": 0.010982,
     "end_time": "2024-01-11T14:48:06.581706",
     "exception": false,
     "start_time": "2024-01-11T14:48:06.570724",
     "status": "completed"
    },
    "tags": []
   },
   "outputs": [],
   "source": [
    "training=train['article'][:10]\n",
    "testing=train['highlights'][:10]"
   ]
  },
  {
   "cell_type": "code",
   "execution_count": 4,
   "id": "858da587",
   "metadata": {
    "execution": {
     "iopub.execute_input": "2024-01-11T14:48:06.590558Z",
     "iopub.status.busy": "2024-01-11T14:48:06.590049Z",
     "iopub.status.idle": "2024-01-11T14:48:18.168661Z",
     "shell.execute_reply": "2024-01-11T14:48:18.167890Z"
    },
    "papermill": {
     "duration": 11.585542,
     "end_time": "2024-01-11T14:48:18.171108",
     "exception": false,
     "start_time": "2024-01-11T14:48:06.585566",
     "status": "completed"
    },
    "tags": []
   },
   "outputs": [
    {
     "name": "stderr",
     "output_type": "stream",
     "text": [
      "/opt/conda/lib/python3.10/site-packages/scipy/__init__.py:146: UserWarning: A NumPy version >=1.16.5 and <1.23.0 is required for this version of SciPy (detected version 1.24.3\n",
      "  warnings.warn(f\"A NumPy version >={np_minversion} and <{np_maxversion}\"\n"
     ]
    }
   ],
   "source": [
    "import tensorflow as tf\n",
    "tokenizer=tf.keras.preprocessing.text.Tokenizer()\n",
    "# random_sentence=\"12th Fail: Did you know IPS officer Manoj Kumar Sharma, IRS officer Shraddha Joshi had cameos in Vikrant Massey film?\"\n",
    "def tokenizenews(random_sentence):\n",
    "    tokenizer=tf.keras.preprocessing.text.Tokenizer()\n",
    "    tokenizer.fit_on_texts([random_sentence])\n",
    "    sequence = tokenizer.texts_to_sequences([random_sentence])\n",
    "    sequence_length = 50  # Adjust as needed\n",
    "    padded_sequence = tf.keras.preprocessing.sequence.pad_sequences(sequence, maxlen=sequence_length)\n",
    "    return padded_sequence\n",
    "training=training.apply(tokenizenews)\n",
    "testing=testing.apply(tokenizenews)"
   ]
  },
  {
   "cell_type": "code",
   "execution_count": 5,
   "id": "01555f0e",
   "metadata": {
    "execution": {
     "iopub.execute_input": "2024-01-11T14:48:18.180064Z",
     "iopub.status.busy": "2024-01-11T14:48:18.179554Z",
     "iopub.status.idle": "2024-01-11T14:48:18.187838Z",
     "shell.execute_reply": "2024-01-11T14:48:18.187103Z"
    },
    "papermill": {
     "duration": 0.014835,
     "end_time": "2024-01-11T14:48:18.189746",
     "exception": false,
     "start_time": "2024-01-11T14:48:18.174911",
     "status": "completed"
    },
    "tags": []
   },
   "outputs": [],
   "source": [
    "from tensorflow.keras.models import Model\n",
    "def encoder(array):\n",
    "    vocab_size = 10000\n",
    "    embedding_dim = 200\n",
    "    encoder_hidden_states=[]\n",
    "    sequence_length = 50\n",
    "    input_sequence = tf.keras.Input(shape=(sequence_length, ))\n",
    "    embedding_layer = tf.keras.layers.Embedding(input_dim=vocab_size, output_dim=embedding_dim)(input_sequence)\n",
    "    encoder_lstm = tf.keras.layers.Bidirectional(tf.keras.layers.LSTM(1600 , return_sequences=True))(embedding_layer)\n",
    "    encoded_representation = tf.keras.layers.Concatenate()([encoder_lstm[:, -1, :], encoder_lstm[:, 0, :]])\n",
    "    model = tf.keras.Model(inputs=input_sequence, outputs=encoded_representation )\n",
    "    for random_sentence in array:\n",
    "        result = model.predict(random_sentence)\n",
    "        print(result.shape)\n",
    "        encoder_hidden_states.append(result)\n",
    "    return encoder_hidden_states"
   ]
  },
  {
   "cell_type": "code",
   "execution_count": 6,
   "id": "aa366667",
   "metadata": {
    "execution": {
     "iopub.execute_input": "2024-01-11T14:48:18.197857Z",
     "iopub.status.busy": "2024-01-11T14:48:18.197603Z",
     "iopub.status.idle": "2024-01-11T14:48:18.212451Z",
     "shell.execute_reply": "2024-01-11T14:48:18.211693Z"
    },
    "papermill": {
     "duration": 0.020997,
     "end_time": "2024-01-11T14:48:18.214228",
     "exception": false,
     "start_time": "2024-01-11T14:48:18.193231",
     "status": "completed"
    },
    "tags": []
   },
   "outputs": [],
   "source": [
    "def decoder(encoder_hidden_states,target_tokens,model1):\n",
    "    loss = 0\n",
    "    context_vector = None\n",
    "    decoder_state = None\n",
    "    sequence_length = 50\n",
    "    hidden_size = 128\n",
    "    embedding_dim = 128\n",
    "    vocab_size = 10000\n",
    "    context_vector=tf.zeros((128,50 ))\n",
    "    decoder_state=tf.zeros((128, 50))\n",
    "    learning_rate=0.001\n",
    "    optimizer = tf.keras.optimizers.Adam(learning_rate=0.01)\n",
    "    v = tf.random.normal(shape=(hidden_size,50))\n",
    "    Wh = tf.random.normal(shape=(hidden_size, 50))\n",
    "    Ws = tf.random.normal(shape=(hidden_size, 50))\n",
    "    battn = tf.random.normal(shape=(hidden_size,50))\n",
    "    for t in range(len(target_tokens)):\n",
    "        input_sequence = tf.keras.Input(shape=(sequence_length, ))\n",
    "        embedding_layer = tf.keras.layers.Embedding(input_dim=vocab_size, output_dim=embedding_dim)(input_sequence)\n",
    "        LSTM=tf.keras.layers.LSTM(128,return_sequences=True)(embedding_layer)\n",
    "        model = tf.keras.Model(inputs=input_sequence, outputs=LSTM)\n",
    "        output_embeddings = model.predict(target_tokens[t])\n",
    "        attention_scores = []\n",
    "        for i in range(len(encoder_hidden_states)):\n",
    "            encoder_hidden_states[i] = tf.reshape(encoder_hidden_states[i], (128,50))\n",
    "            e_t_i = v * tf.nn.tanh(Wh * encoder_hidden_states[i]+ Ws*decoder_state+  battn)\n",
    "            attention_scores.append(e_t_i)\n",
    "        attention_distributon=tf.nn.softmax(attention_scores)\n",
    "        for i in range(len(encoder_hidden_states)):\n",
    "            context_vector += attention_distributon[i] * encoder_hidden_states[i]\n",
    "        output_embeddings=tf.reshape(output_embeddings, (128, 50, 1))\n",
    "        output_embeddings=tf.squeeze(output_embeddings, axis=-1)\n",
    "        concatenated_input = tf.expand_dims(tf.concat([context_vector,output_embeddings], axis=-1),axis=0)\n",
    "        output_embeddings1 = model1.predict(concatenated_input)\n",
    "        vocab_distribution=tf.nn.softmax(output_embeddings1,axis=1)\n",
    "        highest_prob_index=np.argmax(vocab_distribution)\n",
    "        target_word_prob = vocab_distribution[0,highest_prob_index,0]\n",
    "        timestep_loss = -tf.math.log(target_word_prob)\n",
    "        decoder_state=(decoder_state+context_vector)/2\n",
    "        decoder_state = tf.reshape(decoder_state, (128, 50))\n",
    "        print(timestep_loss)\n",
    "        loss += timestep_loss\n",
    "        meanloss=loss/(t+1)\n",
    "        #optimization process\n",
    "        v+=learning_rate*meanloss* tf.nn.tanh(Wh * encoder_hidden_states[i]+ Ws*decoder_state+  battn)\n",
    "        Ws+=learning_rate*meanloss*decoder_state\n",
    "        Wh=Wh+learning_rate*meanloss*encoder_hidden_states[i]\n",
    "        battn+=learning_rate*meanloss\n",
    "        decoder_state=(decoder_state+context_vector)/2\n",
    "        decoder_state = tf.reshape(decoder_state, (128, 50))\n",
    "#         print(v,Ws,Wh,battn,decoder_state,model1.trainable_variables)\n",
    "        "
   ]
  },
  {
   "cell_type": "code",
   "execution_count": 7,
   "id": "6cf7ba2a",
   "metadata": {
    "execution": {
     "iopub.execute_input": "2024-01-11T14:48:18.222301Z",
     "iopub.status.busy": "2024-01-11T14:48:18.222028Z",
     "iopub.status.idle": "2024-01-11T14:48:36.868973Z",
     "shell.execute_reply": "2024-01-11T14:48:36.867963Z"
    },
    "papermill": {
     "duration": 18.653409,
     "end_time": "2024-01-11T14:48:36.871158",
     "exception": false,
     "start_time": "2024-01-11T14:48:18.217749",
     "status": "completed"
    },
    "tags": []
   },
   "outputs": [
    {
     "name": "stdout",
     "output_type": "stream",
     "text": [
      "1/1 [==============================] - 1s 992ms/step\n",
      "(1, 6400)\n",
      "1/1 [==============================] - 0s 31ms/step\n",
      "(1, 6400)\n",
      "1/1 [==============================] - 0s 22ms/step\n",
      "(1, 6400)\n",
      "1/1 [==============================] - 0s 20ms/step\n",
      "(1, 6400)\n",
      "1/1 [==============================] - 0s 20ms/step\n",
      "(1, 6400)\n",
      "1/1 [==============================] - 0s 21ms/step\n",
      "(1, 6400)\n",
      "1/1 [==============================] - 0s 20ms/step\n",
      "(1, 6400)\n",
      "1/1 [==============================] - 0s 21ms/step\n",
      "(1, 6400)\n",
      "1/1 [==============================] - 0s 21ms/step\n",
      "(1, 6400)\n",
      "1/1 [==============================] - 0s 22ms/step\n",
      "(1, 6400)\n",
      "1/1 [==============================] - 0s 400ms/step\n",
      "1/1 [==============================] - 0s 106ms/step\n",
      "tf.Tensor(4.8262773, shape=(), dtype=float32)\n",
      "1/1 [==============================] - 0s 356ms/step\n",
      "1/1 [==============================] - 0s 19ms/step\n",
      "tf.Tensor(4.838239, shape=(), dtype=float32)\n",
      "1/1 [==============================] - 0s 353ms/step\n",
      "1/1 [==============================] - 0s 19ms/step\n",
      "tf.Tensor(4.8347588, shape=(), dtype=float32)\n",
      "1/1 [==============================] - 0s 348ms/step\n",
      "1/1 [==============================] - 0s 24ms/step\n",
      "tf.Tensor(4.836925, shape=(), dtype=float32)\n",
      "1/1 [==============================] - 0s 355ms/step\n",
      "1/1 [==============================] - 0s 19ms/step\n",
      "tf.Tensor(4.836056, shape=(), dtype=float32)\n",
      "1/1 [==============================] - 0s 368ms/step\n",
      "1/1 [==============================] - 0s 19ms/step\n",
      "tf.Tensor(4.828983, shape=(), dtype=float32)\n",
      "1/1 [==============================] - 0s 364ms/step\n",
      "1/1 [==============================] - 0s 19ms/step\n",
      "tf.Tensor(4.8375897, shape=(), dtype=float32)\n",
      "1/1 [==============================] - 0s 352ms/step\n",
      "1/1 [==============================] - 0s 20ms/step\n",
      "tf.Tensor(4.824096, shape=(), dtype=float32)\n",
      "1/1 [==============================] - 0s 353ms/step\n",
      "1/1 [==============================] - 0s 19ms/step\n",
      "tf.Tensor(4.8330607, shape=(), dtype=float32)\n",
      "1/1 [==============================] - 0s 361ms/step\n",
      "1/1 [==============================] - 0s 18ms/step\n",
      "tf.Tensor(4.8385296, shape=(), dtype=float32)\n"
     ]
    }
   ],
   "source": [
    "encoder_hidden=encoder(training)\n",
    "# summarize=\"Germany, situated in central Europe, is renowned for its rich history, vibrant culture, and robust economy. With a population exceeding 80 million, it holds the highest population in the European Union. The country boasts picturesque landscapes like the Black Forest, Bavarian Alps, and Rhine Valley. Germany is a hub of technological advancements and innovation, housing top-tier universities and research institutions. It maintains well-developed infrastructure, efficient public transport, and a high standard of living. German cuisine, featuring hearty dishes like sausages, pretzels, and sauerkraut, is widely appreciated. Iconic landmarks such as the Brandenburg Gate, Neuschwanstein Castle, and Cologne Cathedral add to its allure. Offering a blend of historical sites and modern cities, Germany is a favored tourist destination and an attractive place for residence and employment.\"\n",
    "target_tokens=[tokenizenews(train['highlights'][0])]\n",
    "input_sequence1 = tf.keras.Input(shape=(128, 100))\n",
    "layer2=tf.keras.layers.Dense(1)(input_sequence1)\n",
    "model1 = tf.keras.Model(inputs=input_sequence1, outputs=layer2)\n",
    "decoder(encoder_hidden,training,model1)"
   ]
  },
  {
   "cell_type": "code",
   "execution_count": 8,
   "id": "b31cb00b",
   "metadata": {
    "execution": {
     "iopub.execute_input": "2024-01-11T14:48:36.892485Z",
     "iopub.status.busy": "2024-01-11T14:48:36.892187Z",
     "iopub.status.idle": "2024-01-11T14:48:36.896321Z",
     "shell.execute_reply": "2024-01-11T14:48:36.895462Z"
    },
    "papermill": {
     "duration": 0.01724,
     "end_time": "2024-01-11T14:48:36.898316",
     "exception": false,
     "start_time": "2024-01-11T14:48:36.881076",
     "status": "completed"
    },
    "tags": []
   },
   "outputs": [],
   "source": [
    "def test():\n",
    "    pass"
   ]
  }
 ],
 "metadata": {
  "kaggle": {
   "accelerator": "nvidiaTeslaT4",
   "dataSources": [
    {
     "datasetId": 1654566,
     "sourceId": 2734496,
     "sourceType": "datasetVersion"
    }
   ],
   "dockerImageVersionId": 30626,
   "isGpuEnabled": true,
   "isInternetEnabled": true,
   "language": "python",
   "sourceType": "notebook"
  },
  "kernelspec": {
   "display_name": "Python 3",
   "language": "python",
   "name": "python3"
  },
  "language_info": {
   "codemirror_mode": {
    "name": "ipython",
    "version": 3
   },
   "file_extension": ".py",
   "mimetype": "text/x-python",
   "name": "python",
   "nbconvert_exporter": "python",
   "pygments_lexer": "ipython3",
   "version": "3.10.12"
  },
  "papermill": {
   "default_parameters": {},
   "duration": 69.443365,
   "end_time": "2024-01-11T14:48:40.413259",
   "environment_variables": {},
   "exception": null,
   "input_path": "__notebook__.ipynb",
   "output_path": "__notebook__.ipynb",
   "parameters": {},
   "start_time": "2024-01-11T14:47:30.969894",
   "version": "2.4.0"
  }
 },
 "nbformat": 4,
 "nbformat_minor": 5
}

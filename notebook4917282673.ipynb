{
 "cells": [
  {
   "cell_type": "code",
   "execution_count": 1,
   "id": "0d94153a",
   "metadata": {
    "_cell_guid": "b1076dfc-b9ad-4769-8c92-a6c4dae69d19",
    "_uuid": "8f2839f25d086af736a60e9eeb907d3b93b6e0e5",
    "execution": {
     "iopub.execute_input": "2023-12-04T14:31:39.326342Z",
     "iopub.status.busy": "2023-12-04T14:31:39.325407Z",
     "iopub.status.idle": "2023-12-04T14:31:40.343832Z",
     "shell.execute_reply": "2023-12-04T14:31:40.342517Z"
    },
    "papermill": {
     "duration": 1.027852,
     "end_time": "2023-12-04T14:31:40.346462",
     "exception": false,
     "start_time": "2023-12-04T14:31:39.318610",
     "status": "completed"
    },
    "tags": []
   },
   "outputs": [
    {
     "data": {
      "text/plain": [
       "id                       0\n",
       "allelectrons_Total       0\n",
       "density_Total            0\n",
       "allelectrons_Average     0\n",
       "val_e_Average            0\n",
       "atomicweight_Average     0\n",
       "ionenergy_Average        0\n",
       "el_neg_chi_Average       0\n",
       "R_vdw_element_Average    0\n",
       "R_cov_element_Average    0\n",
       "zaratio_Average          0\n",
       "density_Average          0\n",
       "Hardness                 0\n",
       "dtype: int64"
      ]
     },
     "execution_count": 1,
     "metadata": {},
     "output_type": "execute_result"
    }
   ],
   "source": [
    "import pandas as pd\n",
    "train_data=pd.read_csv(\"/kaggle/input/playground-series-s3e25/train.csv\")\n",
    "train_data.isnull().sum()"
   ]
  },
  {
   "cell_type": "code",
   "execution_count": 2,
   "id": "230966a3",
   "metadata": {
    "execution": {
     "iopub.execute_input": "2023-12-04T14:31:40.358946Z",
     "iopub.status.busy": "2023-12-04T14:31:40.358499Z",
     "iopub.status.idle": "2023-12-04T14:31:40.375619Z",
     "shell.execute_reply": "2023-12-04T14:31:40.374300Z"
    },
    "papermill": {
     "duration": 0.024977,
     "end_time": "2023-12-04T14:31:40.378000",
     "exception": false,
     "start_time": "2023-12-04T14:31:40.353023",
     "status": "completed"
    },
    "tags": []
   },
   "outputs": [
    {
     "data": {
      "text/plain": [
       "0        6.0\n",
       "1        6.5\n",
       "2        2.5\n",
       "3        6.0\n",
       "4        6.0\n",
       "        ... \n",
       "10402    4.0\n",
       "10403    5.0\n",
       "10404    1.8\n",
       "10405    6.0\n",
       "10406    6.5\n",
       "Name: Hardness, Length: 10407, dtype: float64"
      ]
     },
     "execution_count": 2,
     "metadata": {},
     "output_type": "execute_result"
    }
   ],
   "source": [
    "target=train_data['Hardness']\n",
    "train_data.pop('Hardness')"
   ]
  },
  {
   "cell_type": "code",
   "execution_count": 3,
   "id": "e4d07dc3",
   "metadata": {
    "execution": {
     "iopub.execute_input": "2023-12-04T14:31:40.388811Z",
     "iopub.status.busy": "2023-12-04T14:31:40.387630Z",
     "iopub.status.idle": "2023-12-04T14:31:42.309565Z",
     "shell.execute_reply": "2023-12-04T14:31:42.308561Z"
    },
    "papermill": {
     "duration": 1.930046,
     "end_time": "2023-12-04T14:31:42.312231",
     "exception": false,
     "start_time": "2023-12-04T14:31:40.382185",
     "status": "completed"
    },
    "tags": []
   },
   "outputs": [],
   "source": [
    "from catboost import CatBoostRegressor\n",
    "catboost=CatBoostRegressor(loss_function='RMSE',depth=7,random_seed=42,iterations=3000,learning_rate=0.01,verbose=False)"
   ]
  },
  {
   "cell_type": "code",
   "execution_count": 4,
   "id": "21f672ef",
   "metadata": {
    "execution": {
     "iopub.execute_input": "2023-12-04T14:31:42.324258Z",
     "iopub.status.busy": "2023-12-04T14:31:42.323413Z",
     "iopub.status.idle": "2023-12-04T14:31:42.329188Z",
     "shell.execute_reply": "2023-12-04T14:31:42.328084Z"
    },
    "papermill": {
     "duration": 0.015148,
     "end_time": "2023-12-04T14:31:42.331659",
     "exception": false,
     "start_time": "2023-12-04T14:31:42.316511",
     "status": "completed"
    },
    "tags": []
   },
   "outputs": [],
   "source": [
    "from sklearn.preprocessing import StandardScaler, MinMaxScaler, MaxAbsScaler, PolynomialFeatures\n",
    "scaler = MinMaxScaler()"
   ]
  },
  {
   "cell_type": "code",
   "execution_count": 5,
   "id": "638c2459",
   "metadata": {
    "execution": {
     "iopub.execute_input": "2023-12-04T14:31:42.342873Z",
     "iopub.status.busy": "2023-12-04T14:31:42.342403Z",
     "iopub.status.idle": "2023-12-04T14:31:56.472207Z",
     "shell.execute_reply": "2023-12-04T14:31:56.470913Z"
    },
    "papermill": {
     "duration": 14.139781,
     "end_time": "2023-12-04T14:31:56.476053",
     "exception": false,
     "start_time": "2023-12-04T14:31:42.336272",
     "status": "completed"
    },
    "tags": []
   },
   "outputs": [
    {
     "data": {
      "text/plain": [
       "<catboost.core.CatBoostRegressor at 0x7da6df6f6ef0>"
      ]
     },
     "execution_count": 5,
     "metadata": {},
     "output_type": "execute_result"
    }
   ],
   "source": [
    "from sklearn.model_selection import train_test_split\n",
    "# train_data = scaler.fit_transform(train_data)\n",
    "X_train, X_test, y_train, y_test = train_test_split(train_data, target, test_size=0.1, random_state=42)\n",
    "catboost.fit(X_train, y_train)"
   ]
  },
  {
   "cell_type": "code",
   "execution_count": 6,
   "id": "927ea045",
   "metadata": {
    "execution": {
     "iopub.execute_input": "2023-12-04T14:31:56.487088Z",
     "iopub.status.busy": "2023-12-04T14:31:56.486641Z",
     "iopub.status.idle": "2023-12-04T14:31:56.501439Z",
     "shell.execute_reply": "2023-12-04T14:31:56.500060Z"
    },
    "papermill": {
     "duration": 0.022885,
     "end_time": "2023-12-04T14:31:56.503784",
     "exception": false,
     "start_time": "2023-12-04T14:31:56.480899",
     "status": "completed"
    },
    "tags": []
   },
   "outputs": [
    {
     "name": "stdout",
     "output_type": "stream",
     "text": [
      "The Root mean square is 1.1498588263354146\n"
     ]
    }
   ],
   "source": [
    "import numpy as np\n",
    "from sklearn.metrics import mean_squared_error\n",
    "y_pred = catboost.predict(X_test)\n",
    "rmse1 = np.sqrt(mean_squared_error(y_test, y_pred))\n",
    "print(\"The Root mean square is \" + str(rmse1))"
   ]
  },
  {
   "cell_type": "code",
   "execution_count": 7,
   "id": "58c03858",
   "metadata": {
    "execution": {
     "iopub.execute_input": "2023-12-04T14:31:56.514470Z",
     "iopub.status.busy": "2023-12-04T14:31:56.514037Z",
     "iopub.status.idle": "2023-12-04T14:31:56.554755Z",
     "shell.execute_reply": "2023-12-04T14:31:56.553574Z"
    },
    "papermill": {
     "duration": 0.049029,
     "end_time": "2023-12-04T14:31:56.557342",
     "exception": false,
     "start_time": "2023-12-04T14:31:56.508313",
     "status": "completed"
    },
    "tags": []
   },
   "outputs": [
    {
     "data": {
      "text/plain": [
       "id                       0\n",
       "allelectrons_Total       0\n",
       "density_Total            0\n",
       "allelectrons_Average     0\n",
       "val_e_Average            0\n",
       "atomicweight_Average     0\n",
       "ionenergy_Average        0\n",
       "el_neg_chi_Average       0\n",
       "R_vdw_element_Average    0\n",
       "R_cov_element_Average    0\n",
       "zaratio_Average          0\n",
       "density_Average          0\n",
       "dtype: int64"
      ]
     },
     "execution_count": 7,
     "metadata": {},
     "output_type": "execute_result"
    }
   ],
   "source": [
    "test_data=pd.read_csv('/kaggle/input/playground-series-s3e25/test.csv')\n",
    "test_data.isnull().sum()"
   ]
  },
  {
   "cell_type": "code",
   "execution_count": 8,
   "id": "4e2bf511",
   "metadata": {
    "execution": {
     "iopub.execute_input": "2023-12-04T14:31:56.569129Z",
     "iopub.status.busy": "2023-12-04T14:31:56.567869Z",
     "iopub.status.idle": "2023-12-04T14:31:56.630867Z",
     "shell.execute_reply": "2023-12-04T14:31:56.629565Z"
    },
    "papermill": {
     "duration": 0.071505,
     "end_time": "2023-12-04T14:31:56.633480",
     "exception": false,
     "start_time": "2023-12-04T14:31:56.561975",
     "status": "completed"
    },
    "tags": []
   },
   "outputs": [
    {
     "name": "stdout",
     "output_type": "stream",
     "text": [
      "         id  Hardness\n",
      "0     10407  3.177213\n",
      "1     10408  2.776742\n",
      "2     10409  5.958646\n",
      "3     10410  4.380385\n",
      "4     10411  5.328010\n",
      "...     ...       ...\n",
      "6934  17341  5.839477\n",
      "6935  17342  4.467327\n",
      "6936  17343  5.096770\n",
      "6937  17344  4.522490\n",
      "6938  17345  3.204667\n",
      "\n",
      "[6939 rows x 2 columns]\n"
     ]
    }
   ],
   "source": [
    "arr=catboost.predict(test_data)\n",
    "submission = pd.DataFrame({'id': test_data['id'], 'Hardness': arr})\n",
    "print(submission)\n",
    "submission.to_csv('submission.csv', index=False)"
   ]
  }
 ],
 "metadata": {
  "kaggle": {
   "accelerator": "none",
   "dataSources": [
    {
     "databundleVersionId": 6989718,
     "sourceId": 60892,
     "sourceType": "competition"
    }
   ],
   "dockerImageVersionId": 30587,
   "isGpuEnabled": false,
   "isInternetEnabled": true,
   "language": "python",
   "sourceType": "notebook"
  },
  "kernelspec": {
   "display_name": "Python 3",
   "language": "python",
   "name": "python3"
  },
  "language_info": {
   "codemirror_mode": {
    "name": "ipython",
    "version": 3
   },
   "file_extension": ".py",
   "mimetype": "text/x-python",
   "name": "python",
   "nbconvert_exporter": "python",
   "pygments_lexer": "ipython3",
   "version": "3.10.12"
  },
  "papermill": {
   "default_parameters": {},
   "duration": 22.742615,
   "end_time": "2023-12-04T14:31:57.360484",
   "environment_variables": {},
   "exception": null,
   "input_path": "__notebook__.ipynb",
   "output_path": "__notebook__.ipynb",
   "parameters": {},
   "start_time": "2023-12-04T14:31:34.617869",
   "version": "2.4.0"
  }
 },
 "nbformat": 4,
 "nbformat_minor": 5
}
